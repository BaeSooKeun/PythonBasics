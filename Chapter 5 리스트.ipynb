{
 "cells": [
  {
   "cell_type": "markdown",
   "id": "69b05ef3",
   "metadata": {},
   "source": [
    "## Chapter 5"
   ]
  },
  {
   "cell_type": "markdown",
   "id": "c6df4e7c",
   "metadata": {},
   "source": [
    "#### 5.1 리스트\n"
   ]
  },
  {
   "cell_type": "code",
   "execution_count": 1,
   "id": "efa99b2a",
   "metadata": {},
   "outputs": [
    {
     "name": "stdout",
     "output_type": "stream",
     "text": [
      "[10, 20, 30]\n"
     ]
    }
   ],
   "source": [
    "# 지하철 칸별로 10명, 20명, 30명\n",
    "sub1=10\n",
    "sub2=20\n",
    "sub3=30\n",
    "\n",
    "sub=[10,20,30]\n",
    "print(sub)"
   ]
  },
  {
   "cell_type": "code",
   "execution_count": 2,
   "id": "ff244be9",
   "metadata": {},
   "outputs": [
    {
     "name": "stdout",
     "output_type": "stream",
     "text": [
      "['배수근', '정시원', '이재승']\n",
      "1\n",
      "['배수근', '정시원', '이재승', '박용우']\n",
      "['배수근', '정시원', '이민영', '이재승', '박용우']\n"
     ]
    }
   ],
   "source": [
    "sub2=[\"배수근\",\"정시원\",\"이재승\"]\n",
    "print(sub2)\n",
    "\n",
    "#조세호씨가 몇번째 칸에 타고 있는가?\n",
    "print(sub2.index(\"정시원\"))\n",
    "\n",
    "#박용우가 다음 정류장 탑승\n",
    "sub2.append(\"박용우\")\n",
    "print(sub2)\n",
    "\n",
    "#이민영씨를 정시원과 이재승 사이에 태워봄\n",
    "sub2.insert(2,\"이민영\")\n",
    "print(sub2)"
   ]
  },
  {
   "cell_type": "code",
   "execution_count": 3,
   "id": "2bf70427",
   "metadata": {},
   "outputs": [
    {
     "name": "stdout",
     "output_type": "stream",
     "text": [
      "박용우\n",
      "['배수근', '정시원', '이민영', '이재승']\n",
      "이재승\n",
      "['배수근', '정시원', '이민영']\n",
      "이민영\n",
      "['배수근', '정시원']\n"
     ]
    }
   ],
   "source": [
    "#뒤부터 한명씩 꺼내기\n",
    "print(sub2.pop())\n",
    "print(sub2)\n",
    "\n",
    "print(sub2.pop())\n",
    "print(sub2)\n",
    "\n",
    "print(sub2.pop())\n",
    "print(sub2)"
   ]
  },
  {
   "cell_type": "code",
   "execution_count": 4,
   "id": "e384015c",
   "metadata": {},
   "outputs": [
    {
     "name": "stdout",
     "output_type": "stream",
     "text": [
      "2\n"
     ]
    }
   ],
   "source": [
    "#같은 이름의 사람이 몇명 있는지 확인\n",
    "sub2.append(\"배수근\")\n",
    "print(sub2.count(\"배수근\"))"
   ]
  },
  {
   "cell_type": "code",
   "execution_count": 5,
   "id": "90c05190",
   "metadata": {},
   "outputs": [
    {
     "name": "stdout",
     "output_type": "stream",
     "text": [
      "[1, 2, 3, 4, 5]\n",
      "[5, 4, 3, 2, 1]\n",
      "[]\n"
     ]
    }
   ],
   "source": [
    "#정렬하기\n",
    "num_list=[5,2,4,3,1]\n",
    "num_list.sort()\n",
    "print(num_list)\n",
    "\n",
    "#순서 뒤집기 가능\n",
    "num_list.reverse()\n",
    "print(num_list)\n",
    "\n",
    "#모두 지우기\n",
    "num_list.clear()\n",
    "print(num_list)"
   ]
  },
  {
   "cell_type": "code",
   "execution_count": 6,
   "id": "39a6d1eb",
   "metadata": {},
   "outputs": [
    {
     "name": "stdout",
     "output_type": "stream",
     "text": [
      "[5, 2, 4, 3, 1, '조세호', 20, True]\n"
     ]
    }
   ],
   "source": [
    "#다양한 자료 함께 사용\n",
    "mix_list=[\"조세호\",20,True]\n",
    "num_list=[5,2,4,3,1]\n",
    "num_list.extend(mix_list)\n",
    "print(num_list)"
   ]
  },
  {
   "cell_type": "markdown",
   "id": "e8edc9c0",
   "metadata": {},
   "source": [
    "#### 5.2 사전\n"
   ]
  },
  {
   "cell_type": "code",
   "execution_count": 7,
   "id": "e17f40b5",
   "metadata": {},
   "outputs": [
    {
     "name": "stdout",
     "output_type": "stream",
     "text": [
      "유재석\n",
      "김태호\n",
      "유재석\n",
      "사용가능\n",
      "hi\n",
      "True\n",
      "False\n"
     ]
    }
   ],
   "source": [
    "cab={3:\"유재석\",100:\"김태호\"}\n",
    "print(cab[3])\n",
    "print(cab[100])\n",
    "print(cab.get(3))\n",
    "\n",
    "#print(cab[5]) #오류 발생\n",
    "print(cab.get(5,\"사용가능\")) #오류 발생X , None이 default고 설정 하면 사용가능 이렇게 출력하게 만들 수 있음.\n",
    "print(\"hi\")\n",
    "print(3 in cab)\n",
    "print(5 in cab)"
   ]
  },
  {
   "cell_type": "code",
   "execution_count": 8,
   "id": "914dee77",
   "metadata": {},
   "outputs": [
    {
     "name": "stdout",
     "output_type": "stream",
     "text": [
      "유재석\n",
      "김태호\n",
      "{'A-3': '유재석', 'B-100': '김태호'}\n",
      "{'A-3': '김종국', 'B-100': '김태호', 'c-20': '조세호'}\n"
     ]
    }
   ],
   "source": [
    "cab={\"A-3\":\"유재석\",\"B-100\":\"김태호\"}\n",
    "print(cab[\"A-3\"])\n",
    "print(cab[\"B-100\"])\n",
    "\n",
    "#새 손님\n",
    "print(cab)\n",
    "cab[\"A-3\"]=\"김종국\" #유재석이 김종국으로 대체되는 것을 볼 수 있음.\n",
    "cab[\"c-20\"]=\"조세호\"\n",
    "print(cab)"
   ]
  },
  {
   "cell_type": "code",
   "execution_count": 9,
   "id": "7c8ad388",
   "metadata": {},
   "outputs": [
    {
     "name": "stdout",
     "output_type": "stream",
     "text": [
      "{'B-100': '김태호', 'c-20': '조세호'}\n",
      "dict_keys(['B-100', 'c-20'])\n",
      "dict_values(['김태호', '조세호'])\n",
      "dict_items([('B-100', '김태호'), ('c-20', '조세호')])\n"
     ]
    }
   ],
   "source": [
    "# 간 손님\n",
    "del cab[\"A-3\"]\n",
    "print(cab)\n",
    "\n",
    "#key들만 출력\n",
    "print(cab.keys())\n",
    "print(cab.values())\n",
    "print(cab.items())"
   ]
  },
  {
   "cell_type": "code",
   "execution_count": 10,
   "id": "c1ec0c36",
   "metadata": {},
   "outputs": [
    {
     "name": "stdout",
     "output_type": "stream",
     "text": [
      "{}\n"
     ]
    }
   ],
   "source": [
    "# 목욕탕 폐점\n",
    "cab.clear()\n",
    "print(cab)"
   ]
  },
  {
   "cell_type": "markdown",
   "id": "dba2767c",
   "metadata": {},
   "source": [
    "#### 5.3 튜플"
   ]
  },
  {
   "cell_type": "code",
   "execution_count": 11,
   "id": "28765b18",
   "metadata": {},
   "outputs": [
    {
     "name": "stdout",
     "output_type": "stream",
     "text": [
      "돈까스\n",
      "치즈까스\n",
      "김종국 20 코딩\n",
      "김종국 20 코딩\n"
     ]
    }
   ],
   "source": [
    "menu=(\"돈까스\",\"치즈까스\")\n",
    "print(menu[0])\n",
    "print(menu[1])\n",
    "\n",
    "#튜플은 menu.add 이런것이 안됨.\n",
    "name=\"김종국\"\n",
    "age=20\n",
    "hobby='코딩'\n",
    "print(name,age,hobby)\n",
    "\n",
    "(name,age,hobby)=(\"김종국\",20,\"코딩\")\n",
    "print(name,age,hobby)"
   ]
  },
  {
   "cell_type": "markdown",
   "id": "4c28e833",
   "metadata": {},
   "source": [
    "#### 5.4 SET\n",
    "- 중복X, 순서X"
   ]
  },
  {
   "cell_type": "code",
   "execution_count": 13,
   "id": "62442a7d",
   "metadata": {},
   "outputs": [
    {
     "name": "stdout",
     "output_type": "stream",
     "text": [
      "{1, 2, 3}\n"
     ]
    }
   ],
   "source": [
    "set2={1,2,3,3,3}\n",
    "print(set2)"
   ]
  },
  {
   "cell_type": "code",
   "execution_count": 16,
   "id": "59d0186d",
   "metadata": {},
   "outputs": [
    {
     "name": "stdout",
     "output_type": "stream",
     "text": [
      "{'유재석'}\n",
      "{'유재석'}\n",
      "{'이광수', '유재석', '김태호', '박명수'}\n",
      "{'이광수', '유재석', '김태호', '박명수'}\n",
      "{'이광수', '김태호'}\n",
      "{'이광수', '김태호'}\n",
      "{'김태호', '박명수', '유재석'}\n",
      "{'이광수', '유재석'}\n"
     ]
    }
   ],
   "source": [
    "java={\"유재석\",\"김태호\",\"이광수\"}\n",
    "python= set([\"유재석\",\"박명수\"])\n",
    "print(java & python) #교집합\n",
    "print(java.intersection(python)) \n",
    "print(java | python) #합집합\n",
    "print(java.union(python))\n",
    "print(java-python) #차집합;java는 할 수 있지만 python은 할 줄 모르는 개발자\n",
    "print(java.difference(python))\n",
    "\n",
    "python.add(\"김태호\")\n",
    "print(python)\n",
    "java.remove(\"김태호\")\n",
    "print(java)"
   ]
  },
  {
   "cell_type": "markdown",
   "id": "60dc9b8c",
   "metadata": {},
   "source": [
    "#### 5.5 자료구조의 변경"
   ]
  },
  {
   "cell_type": "code",
   "execution_count": 15,
   "id": "6c7c49de",
   "metadata": {},
   "outputs": [
    {
     "name": "stdout",
     "output_type": "stream",
     "text": [
      "{'커피', '우유', '아샷추'} <class 'set'>\n",
      "['커피', '우유', '아샷추'] <class 'list'>\n",
      "('커피', '우유', '아샷추') <class 'tuple'>\n",
      "{'커피', '우유', '아샷추'} <class 'set'>\n"
     ]
    }
   ],
   "source": [
    "me={\"커피\",\"우유\",\"아샷추\"} #set\n",
    "print(me,type(me))\n",
    "\n",
    "me=list(me) #list로 바꾸기\n",
    "print(me,type(me))\n",
    "\n",
    "me=tuple(me) #튜플로 바꾸기\n",
    "print(me,type(me))\n",
    "\n",
    "me=set(me) #세트로 바꾸기\n",
    "print(me,type(me))"
   ]
  },
  {
   "cell_type": "code",
   "execution_count": null,
   "id": "76a6c72a",
   "metadata": {},
   "outputs": [],
   "source": [
    "#Quiz\n"
   ]
  }
 ],
 "metadata": {
  "kernelspec": {
   "display_name": "Python 3 (ipykernel)",
   "language": "python",
   "name": "python3"
  },
  "language_info": {
   "codemirror_mode": {
    "name": "ipython",
    "version": 3
   },
   "file_extension": ".py",
   "mimetype": "text/x-python",
   "name": "python",
   "nbconvert_exporter": "python",
   "pygments_lexer": "ipython3",
   "version": "3.9.13"
  }
 },
 "nbformat": 4,
 "nbformat_minor": 5
}
