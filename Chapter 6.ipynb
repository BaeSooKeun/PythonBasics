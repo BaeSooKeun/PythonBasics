{
 "cells": [
  {
   "cell_type": "markdown",
   "id": "52c2285a",
   "metadata": {},
   "source": [
    "### 6.1\n",
    "\n"
   ]
  },
  {
   "cell_type": "code",
   "execution_count": 1,
   "id": "a26d2dd1",
   "metadata": {},
   "outputs": [
    {
     "name": "stdout",
     "output_type": "stream",
     "text": [
      "우산을 챙기세요.\n"
     ]
    }
   ],
   "source": [
    "weather = \"비\"\n",
    "\n",
    "if weather == \"비\": \n",
    "    print(\"우산을 챙기세요.\")"
   ]
  },
  {
   "cell_type": "code",
   "execution_count": 2,
   "id": "96db7b14",
   "metadata": {},
   "outputs": [
    {
     "name": "stdout",
     "output_type": "stream",
     "text": [
      "마스크를 챙기세요.\n"
     ]
    }
   ],
   "source": [
    "weather = \"맑음\"\n",
    "\n",
    "if weather == \"비\":\n",
    "    print(\"우산을 챙기세요.\")\n",
    "\n",
    "\n",
    "weather = \"미세먼지\"\n",
    "\n",
    "if weather == \"비\":\n",
    "    print(\"우산을 챙기세요.\") \n",
    "elif weather == \"미세먼지\":\n",
    "    print(\"마스크를 챙기세요.\") "
   ]
  },
  {
   "cell_type": "code",
   "execution_count": 3,
   "id": "a1cf455c",
   "metadata": {},
   "outputs": [
    {
     "name": "stdout",
     "output_type": "stream",
     "text": [
      "준비물이 필요 없어요.\n"
     ]
    }
   ],
   "source": [
    "weather = \"맑음\"\n",
    "\n",
    "if weather == \"비\":\n",
    "    print(\"우산을 챙기세요.\")\n",
    "elif weather == \"미세먼지\":\n",
    "    print(\"마스크를 챙기세요.\")\n",
    "else:\n",
    "    print(\"준비물이 필요 없어요.\")"
   ]
  },
  {
   "cell_type": "code",
   "execution_count": 4,
   "id": "e53861fe",
   "metadata": {},
   "outputs": [
    {
     "name": "stdout",
     "output_type": "stream",
     "text": [
      "오늘 날씨는 어때요? -1\n",
      "준비물이 필요 없어요.\n",
      "오늘 날씨는 어때요? 10\n",
      "준비물이 필요 없어요.\n",
      "오늘 기온은 어때요? 5\n",
      "외투를 챙기세요.\n",
      "오늘 기온은 어때요? 3\n",
      "외투를 챙기세요.\n",
      "오늘 기온은 어때요? 2\n",
      "외투를 챙기세요.\n"
     ]
    }
   ],
   "source": [
    "weather = input(\"오늘 날씨는 어때요? \")\n",
    "#print(weather)\n",
    "\n",
    "if weather == \"비\":\n",
    "    print(\"우산을 챙기세요.\")\n",
    "elif weather == \"미세먼지\":\n",
    "    print(\"마스크를 챙기세요.\")\n",
    "else:\n",
    "    print(\"준비물이 필요 없어요.\")\n",
    "\n",
    "\n",
    "weather = input(\"오늘 날씨는 어때요? \")\n",
    "\n",
    "if weather == \"비\" or weather == \"눈\": \n",
    "    print(\"우산을 챙기세요.\")\n",
    "elif weather == \"미세먼지\":\n",
    "    print(\"마스크를 챙기세요.\")\n",
    "else:\n",
    "    print(\"준비물이 필요 없어요.\")\n",
    "\n",
    "\n",
    "temp = int(input(\"오늘 기온은 어때요? \")) \n",
    "\n",
    "if 30 <= temp: \n",
    "    print(\"너무 더워요. 외출을 자제하세요.\")\n",
    "elif 10 <= temp and temp < 30: \n",
    "    print(\"활동하기 좋은 날씨예요.\")\n",
    "elif 0 <= temp and temp < 10:\n",
    "    print(\"외투를 챙기세요.\")\n",
    "else: \n",
    "    print(\"너무 추워요. 나가지 마세요.\")\n",
    "\n",
    "\n",
    "temp = int(input(\"오늘 기온은 어때요? \"))\n",
    "\n",
    "if 30 <= temp:\n",
    "    print(\"너무 더워요. 외출을 자제하세요.\")\n",
    "elif 10 <= temp < 30:\n",
    "    print(\"활동하기 좋은 날씨예요.\")\n",
    "elif 0 <= temp < 10:\n",
    "    print(\"외투를 챙기세요.\")\n",
    "else:\n",
    "    print(\"너무 추워요. 나가지 마세요.\")\n",
    "\n",
    "\n",
    "temp = int(input(\"오늘 기온은 어때요? \"))\n",
    "\n",
    "if temp >= 30:\n",
    "    print(\"너무 더워요. 외출을 자제하세요.\")\n",
    "elif temp >= 10:\n",
    "    print(\"활동하기 좋은 날씨예요.\")\n",
    "elif temp >= 0:\n",
    "    print(\"외투를 챙기세요.\")\n",
    "else:\n",
    "    print(\"너무 추워요. 나가지 마세요.\")"
   ]
  },
  {
   "cell_type": "markdown",
   "id": "8a26cf81",
   "metadata": {},
   "source": [
    "### 6.2"
   ]
  },
  {
   "cell_type": "code",
   "execution_count": 5,
   "id": "a44b9db1",
   "metadata": {},
   "outputs": [
    {
     "name": "stdout",
     "output_type": "stream",
     "text": [
      "대기번호 : 1\n",
      "대기번호 : 2\n",
      "대기번호 : 3\n",
      "대기번호 : 4\n",
      "대기번호 : 5\n",
      "대기번호 : 0\n",
      "대기번호 : 1\n",
      "대기번호 : 2\n",
      "대기번호 : 3\n",
      "대기번호 : 4\n",
      "대기번호 : 1\n",
      "대기번호 : 2\n",
      "대기번호 : 3\n",
      "대기번호 : 4\n",
      "대기번호 : 5\n",
      "대기번호 : 1\n",
      "대기번호 : 3\n",
      "대기번호 : 5\n",
      "아이언맨 님, 커피가 준비됐습니다. 픽업대로 와 주세요.\n",
      "토르 님, 커피가 준비됐습니다. 픽업대로 와 주세요.\n",
      "스파이더맨 님, 커피가 준비됐습니다. 픽업대로 와 주세요.\n"
     ]
    }
   ],
   "source": [
    "for waiting_no in [1, 2, 3, 4, 5]:\n",
    "    print(\"대기번호 : {0}\".format(waiting_no)) \n",
    "    \n",
    "for waiting_no in range(5): \n",
    "    print(\"대기번호 : {0}\".format(waiting_no))\n",
    "\n",
    "\n",
    "for waiting_no in range(1, 6): \n",
    "    print(\"대기번호 : {0}\".format(waiting_no))\n",
    "\n",
    "\n",
    "for waiting_no in range(1, 6, 2):\n",
    "    print(\"대기번호 : {0}\".format(waiting_no))\n",
    "\n",
    "\n",
    "orders = [\"아이언맨\", \"토르\", \"스파이더맨\"] \n",
    "for customer in orders:\n",
    "    print(\"{0} 님, 커피가 준비됐습니다. 픽업대로 와 주세요.\".format(customer))\n"
   ]
  },
  {
   "cell_type": "code",
   "execution_count": 6,
   "id": "e1210d35",
   "metadata": {},
   "outputs": [
    {
     "name": "stdout",
     "output_type": "stream",
     "text": [
      "토르 님, 커피가 준비됐습니다.\n",
      "4번 남았어요.\n",
      "토르 님, 커피가 준비됐습니다.\n",
      "3번 남았어요.\n",
      "토르 님, 커피가 준비됐습니다.\n",
      "2번 남았어요.\n",
      "토르 님, 커피가 준비됐습니다.\n",
      "1번 남았어요.\n",
      "토르 님, 커피가 준비됐습니다.\n",
      "0번 남았어요.\n",
      "커피를 폐기 처분합니다.\n",
      "토르 님, 커피가 준비됐습니다.\n",
      "이름이 어떻게 되세요? 1\n",
      "토르 님, 커피가 준비됐습니다.\n",
      "이름이 어떻게 되세요? 토르\n"
     ]
    }
   ],
   "source": [
    "customer = \"토르\" \n",
    "index = 5 \n",
    "\n",
    "while index >= 1:\n",
    "    print(\"{} 님, 커피가 준비됐습니다.\".format(customer))\n",
    "    index -= 1 \n",
    "    print(\"{}번 남았어요.\".format(index))\n",
    "    if index == 0: \n",
    "        print(\"커피를 폐기 처분합니다.\")\n",
    "\n",
    "\"\"\"\n",
    "customer = \"아이언맨\"\n",
    "index = 1\n",
    "\n",
    "while True:\n",
    "    print(\"{0} 님, 커피가 준비됐습니다. 호출 {1}회\".format(customer, index))\n",
    "    index += 1\n",
    "\"\"\"\n",
    "\n",
    "\n",
    "customer = \"토르\"\n",
    "person = None\n",
    "\n",
    "while person != customer:\n",
    "    print(\"{0} 님, 커피가 준비됐습니다.\".format(customer))\n",
    "    person = input(\"이름이 어떻게 되세요? \")\n",
    "\n"
   ]
  },
  {
   "cell_type": "code",
   "execution_count": 7,
   "id": "00eaadce",
   "metadata": {},
   "outputs": [
    {
     "name": "stdout",
     "output_type": "stream",
     "text": [
      "1번 학생, 책을 읽어 보세요.\n",
      "3번 학생, 책을 읽어 보세요.\n",
      "4번 학생, 책을 읽어 보세요.\n",
      "6번 학생, 책을 읽어 보세요.\n",
      "오늘 수업은 여기까지. 7번 학생은 교무실로 따라와요.\n"
     ]
    }
   ],
   "source": [
    "absent = [2, 5] \n",
    "no_book = [7] \n",
    "\n",
    "for student in range(1, 11): \n",
    "    if student in absent: \n",
    "        continue \n",
    "    elif student in no_book: \n",
    "        print(\"오늘 수업은 여기까지. {0}번 학생은 교무실로 따라와요.\".format(student))\n",
    "        break \n",
    "    print(\"{0}번 학생, 책을 읽어 보세요.\".format(student))"
   ]
  },
  {
   "cell_type": "code",
   "execution_count": 8,
   "id": "0dd17df5",
   "metadata": {},
   "outputs": [
    {
     "name": "stdout",
     "output_type": "stream",
     "text": [
      "[1, 2, 3, 4, 5]\n",
      "[101, 102, 103, 104, 105]\n",
      "['Iron man', 'Thor', 'Spider Man']\n",
      "[8, 4, 10]\n",
      "['Iron man', 'Thor', 'Spider Man']\n",
      "['IRON MAN', 'THOR', 'SPIDER MAN']\n"
     ]
    }
   ],
   "source": [
    "students = [1, 2, 3, 4, 5]\n",
    "print(students)\n",
    "\n",
    "students = [i + 100 for i in students]\n",
    "print(students)\n",
    "\n",
    "\n",
    "students = [\"Iron man\", \"Thor\", \"Spider Man\"]\n",
    "print(students)\n",
    "\n",
    "students = [len(i) for i in students]\n",
    "print(students)\n",
    "\n",
    "\n",
    "students = [\"Iron man\", \"Thor\", \"Spider Man\"]\n",
    "print(students)\n",
    "\n",
    "students = [i.upper() for i in students]\n",
    "print(students)"
   ]
  }
 ],
 "metadata": {
  "kernelspec": {
   "display_name": "Python 3 (ipykernel)",
   "language": "python",
   "name": "python3"
  },
  "language_info": {
   "codemirror_mode": {
    "name": "ipython",
    "version": 3
   },
   "file_extension": ".py",
   "mimetype": "text/x-python",
   "name": "python",
   "nbconvert_exporter": "python",
   "pygments_lexer": "ipython3",
   "version": "3.11.5"
  }
 },
 "nbformat": 4,
 "nbformat_minor": 5
}
