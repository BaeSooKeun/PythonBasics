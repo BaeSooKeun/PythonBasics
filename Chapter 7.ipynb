{
 "cells": [
  {
   "cell_type": "markdown",
   "id": "17532616",
   "metadata": {},
   "source": [
    "### 7.1"
   ]
  },
  {
   "cell_type": "code",
   "execution_count": 1,
   "id": "a7858f81",
   "metadata": {},
   "outputs": [
    {
     "name": "stdout",
     "output_type": "stream",
     "text": [
      "새로운 계좌를 개설합니다.\n"
     ]
    }
   ],
   "source": [
    "def open_account():\n",
    "    print(\"새로운 계좌를 개설합니다.\")\n",
    "\n",
    "open_account()\n"
   ]
  },
  {
   "cell_type": "markdown",
   "id": "d7a619c4",
   "metadata": {},
   "source": [
    "### 7.2\n"
   ]
  },
  {
   "cell_type": "code",
   "execution_count": 2,
   "id": "7b27ae82",
   "metadata": {},
   "outputs": [
    {
     "name": "stdout",
     "output_type": "stream",
     "text": [
      "새로운 계좌를 개설합니다.\n",
      "1000원을 입금했습니다. 잔액은 1000원입니다.\n"
     ]
    }
   ],
   "source": [
    "def open_account():\n",
    "    print(\"새로운 계좌를 개설합니다.\")\n",
    "\n",
    "open_account()\n",
    "\n",
    "def deposit(balance, money):\n",
    "    print(\"{0}원을 입금했습니다. 잔액은 {1}원입니다.\".format(money, balance + money))\n",
    "    return balance + money \n",
    "\n",
    "balance = 0 \n",
    "balance = deposit(balance, 1000)"
   ]
  },
  {
   "cell_type": "code",
   "execution_count": 3,
   "id": "7db97aac",
   "metadata": {},
   "outputs": [
    {
     "name": "stdout",
     "output_type": "stream",
     "text": [
      "새로운 계좌를 개설합니다.\n",
      "1000원을 입금했습니다. 잔액은 1000원입니다.\n",
      "잔액이 부족합니다. 잔액은 1000원입니다.\n",
      "500원을 출금했습니다. 잔액은 500원입니다.\n"
     ]
    }
   ],
   "source": [
    "def open_account():\n",
    "    print(\"새로운 계좌를 개설합니다.\")\n",
    "\n",
    "open_account() \n",
    "def deposit(balance, money):\n",
    "    print(\"{0}원을 입금했습니다. 잔액은 {1}원입니다.\".format(money, balance + money))\n",
    "    return balance + money \n",
    "\n",
    "def withdraw(balance, money):\n",
    "    if balance >= money:\n",
    "        print(\"{0}원을 출금했습니다. 잔액은 {1}원입니다.\".format(money, balance - money))\n",
    "        return balance - money \n",
    "    else:\n",
    "        print(\"잔액이 부족합니다. 잔액은 {0}원입니다.\".format(balance))\n",
    "        return balance\n",
    "\n",
    "balance = 0 \n",
    "balance = deposit(balance, 1000)\n",
    "\n",
    "balance = withdraw(balance, 2000) \n",
    "balance = withdraw(balance, 500) "
   ]
  },
  {
   "cell_type": "code",
   "execution_count": 4,
   "id": "65d02099",
   "metadata": {},
   "outputs": [
    {
     "name": "stdout",
     "output_type": "stream",
     "text": [
      "새로운 계좌를 개설합니다.\n",
      "1000원을 입금했습니다. 잔액은 1000원입니다.\n",
      "업무 시간 외에 500원을 출금했습니다.\n",
      "수수료 100원이며, 잔액은 400원입니다.\n",
      "피글렛 20 코딩\n",
      "피글렛 20 코딩\n",
      "피글렛 20 코딩\n"
     ]
    }
   ],
   "source": [
    "def open_account():\n",
    "    print(\"새로운 계좌를 개설합니다.\")\n",
    "\n",
    "open_account() \n",
    "\n",
    "def deposit(balance, money): \n",
    "    print(\"{0}원을 입금했습니다. 잔액은 {1}원입니다.\".format(money, balance + money))\n",
    "    return balance + money \n",
    "\n",
    "\n",
    "def withdraw_night(balance, money): \n",
    "    commission = 100 \n",
    "    print(\"업무 시간 외에 {}원을 출금했습니다.\" .format(money))\n",
    "    return commission, balance - money - commission\n",
    "\n",
    "balance = 0 \n",
    "balance = deposit(balance, 1000) \n",
    "\n",
    "commission, balance = withdraw_night(balance, 500)\n",
    "print(\"수수료 {0}원이며, 잔액은 {1}원입니다.\".format(commission, balance))\n",
    "\n",
    "\n",
    "(name, age, hobby) = (\"피글렛\", 20, \"코딩\")\n",
    "print(name, age, hobby)\n",
    "\n",
    "name, age, hobby = (\"피글렛\", 20, \"코딩\")\n",
    "print(name, age, hobby)\n",
    "\n",
    "name, age, hobby = \"피글렛\", 20, \"코딩\" \n",
    "print(name, age, hobby)"
   ]
  },
  {
   "cell_type": "markdown",
   "id": "b8fbf41a",
   "metadata": {},
   "source": [
    "### 7.3\n"
   ]
  },
  {
   "cell_type": "code",
   "execution_count": 5,
   "id": "7d27492f",
   "metadata": {},
   "outputs": [
    {
     "name": "stdout",
     "output_type": "stream",
     "text": [
      "이름 : 찰리\t나이 : 20\t주 사용 언어 : 파이썬\n",
      "이름 : 루시\t나이 : 25\t주 사용 언어 : 자바\n",
      "이름 : 찰리\t나이 : 20\t주 사용 언어 : 파이썬\n",
      "이름 : 루시\t나이 : 20\t주 사용 언어 : 파이썬\n",
      "이름 : 찰리\t나이 : 20\t주 사용 언어 : 파이썬\n",
      "이름 : 찰리\t나이 : 22\t주 사용 언어 : 파이썬\n",
      "이름 : 찰리\t나이 : 24\t주 사용 언어 : 자바\n",
      "빵 음료수\n"
     ]
    }
   ],
   "source": [
    "def profile(name, age, main_lang):\n",
    "    print(\"이름 : {0}\\t나이 : {1}\\t주 사용 언어 : {2}\".format(name, age, main_lang))\n",
    "    \n",
    "profile(\"찰리\", 20, \"파이썬\")\n",
    "profile(\"루시\", 25, \"자바\")\n",
    "\n",
    "\n",
    "def profile(name, age=20, main_lang=\"파이썬\"):\n",
    "    print(\"이름 : {0}\\t나이 : {1}\\t주 사용 언어 : {2}\".format(name, age, main_lang))\n",
    "\n",
    "profile(\"찰리\")\n",
    "profile(\"루시\")\n",
    "\n",
    "\n",
    "def profile(name, age=20, main_lang=\"파이썬\"):\n",
    "    print(\"이름 : {0}\\t나이 : {1}\\t주 사용 언어 : {2}\".format(name, age, main_lang))\n",
    "    \n",
    "profile(\"찰리\") \n",
    "profile(\"찰리\", 22) \n",
    "profile(\"찰리\", 24, \"자바\") \n",
    "\n",
    "\n",
    "def buy(item1, item2=\"음료수\"): \n",
    "    print(item1, item2)\n",
    "\n",
    "buy(\"빵\") "
   ]
  },
  {
   "cell_type": "code",
   "execution_count": 6,
   "id": "87d3397d",
   "metadata": {},
   "outputs": [
    {
     "name": "stdout",
     "output_type": "stream",
     "text": [
      "찰리 20 파이썬\n",
      "루시 25 자바\n",
      "찰리 20 파이썬\n"
     ]
    }
   ],
   "source": [
    "def profile(name, age, main_lang): \n",
    "    print(name, age, main_lang)\n",
    "\n",
    "profile(name=\"찰리\", main_lang=\"파이썬\", age=20)\n",
    "profile(main_lang=\"자바\", age=25, name=\"루시\")\n",
    "\n",
    "\n",
    "def profile(name, age, main_lang): \n",
    "    print(name, age, main_lang)\n",
    "\n",
    "profile(\"찰리\", age=20, main_lang=\"파이썬\") \n",
    "\n",
    "\n",
    "def profile(name, age, main_lang):\n",
    "    print(name, age, main_lang)\n",
    "\n",
    "    profile(\"찰리\", 20, \"파이썬\") \n"
   ]
  },
  {
   "cell_type": "code",
   "execution_count": 7,
   "id": "607b31bc",
   "metadata": {},
   "outputs": [
    {
     "name": "stdout",
     "output_type": "stream",
     "text": [
      "이름 : 찰리\t나이 : 20\t\n",
      "파이썬 자바 C C++ C#\n",
      "이름 : 루시\t나이 : 25\t\n",
      "코틀린 스위프트   \n",
      "이름 : 찰리\t나이 : 20\t 파이썬 자바 C C++ C#\n",
      "이름 : 루시\t나이 : 25\t 코틀린 스위프트   \n",
      "이름 : 찰리\t나이 : 20\t ('파이썬', '자바', 'C', 'C++', 'C#', '자바스크립트') <class 'tuple'>\n",
      "이름 : 루시\t나이 : 25\t ('코틀린', '스위프트') <class 'tuple'>\n",
      "이름 : 찰리\t나이 : 20\t 파이썬 자바 C C++ C# 자바스크립트 \n",
      "이름 : 루시\t나이 : 25\t 코틀린 스위프트 \n",
      "아메리카노 만드는 법\n",
      "뜨거운 물 붓기\n",
      "에스프레소 붓기\n"
     ]
    }
   ],
   "source": [
    "def profile(name, age, lang1, lang2, lang3, lang4, lang5):\n",
    "    print(\"이름 : {0}\\t나이 : {1}\\t\".format(name, age))\n",
    "    print(lang1, lang2, lang3, lang4, lang5)\n",
    "\n",
    "profile(\"찰리\", 20, \"파이썬\", \"자바\", \"C\", \"C++\", \"C#\")\n",
    "profile(\"루시\", 25, \"코틀린\", \"스위프트\", \"\", \"\", \"\")\n",
    "\n",
    "\n",
    "def profile(name, age, lang1, lang2, lang3, lang4, lang5):\n",
    "    print(\"이름 : {0}\\t나이 : {1}\\t\".format(name, age), end=\" \") \n",
    "    print(lang1, lang2, lang3, lang4, lang5)\n",
    "\n",
    "profile(\"찰리\", 20, \"파이썬\", \"자바\", \"C\", \"C++\", \"C#\")\n",
    "profile(\"루시\", 25, \"코틀린\", \"스위프트\", \"\", \"\", \"\")\n",
    "\n",
    "\n",
    "def profile(name, age, *language):\n",
    "    print(\"이름 : {0}\\t나이 : {1}\\t\".format(name, age), end=\" \")\n",
    "    print(language, type(language))\n",
    "\n",
    "profile(\"찰리\", 20, \"파이썬\", \"자바\", \"C\", \"C++\", \"C#\", \"자바스크립트\") \n",
    "profile(\"루시\", 25, \"코틀린\", \"스위프트\")\n",
    "\n",
    "\n",
    "def profile(name, age, *language):\n",
    "    print(\"이름 : {0}\\t나이 : {1}\\t\".format(name, age), end=\" \")\n",
    "    for lang in language:\n",
    "        print(lang, end=\" \") \n",
    "    print() \n",
    "\n",
    "profile(\"찰리\", 20, \"파이썬\", \"자바\", \"C\", \"C++\", \"C#\", \"자바스크립트\")\n",
    "profile(\"루시\", 25, \"코틀린\", \"스위프트\")\n",
    "\n",
    "\n",
    "def add(item):\n",
    "    print(item, \"붓기\")\n",
    "\n",
    "def americano():\n",
    "    add(\"뜨거운 물\")\n",
    "    add(\"에스프레소\")\n",
    "\n",
    "print(\"아메리카노 만드는 법\")\n",
    "americano()\n"
   ]
  },
  {
   "cell_type": "markdown",
   "id": "d620fbbf",
   "metadata": {},
   "source": [
    "### 7.4\n"
   ]
  },
  {
   "cell_type": "code",
   "execution_count": 13,
   "id": "e01f2dd5",
   "metadata": {},
   "outputs": [
    {
     "name": "stdout",
     "output_type": "stream",
     "text": [
      "전체 3D 안경 개수: 10\n",
      "[함수 내부] 남은 3D 안경 개수: 8\n",
      "남은 3D 안경 개수: 8\n"
     ]
    }
   ],
   "source": [
    "glasses = 10 \n",
    "\n",
    "def rent(people): \n",
    "    global glasses\n",
    "    glasses = glasses - people \n",
    "    print(\"[함수 내부] 남은 3D 안경 개수: {0}\".format(glasses))\n",
    "\n",
    "print(\"전체 3D 안경 개수: {0}\".format(glasses))\n",
    "rent(2)\n",
    "print(\"남은 3D 안경 개수: {0}\".format(glasses))"
   ]
  },
  {
   "cell_type": "code",
   "execution_count": 11,
   "id": "b92715a0",
   "metadata": {},
   "outputs": [
    {
     "name": "stdout",
     "output_type": "stream",
     "text": [
      "전체 3D 안경 개수: 10\n",
      "[함수 내부] 남은 3D 안경 개수: 8\n",
      "남은 3D 안경 개수: 8\n"
     ]
    }
   ],
   "source": [
    "glasses = 10\n",
    "\n",
    "def rent_return(glasses, people):\n",
    "    glasses = glasses - people \n",
    "    print(\"[함수 내부] 남은 3D 안경 개수: {0}\".format(glasses))\n",
    "    return glasses\n",
    "\n",
    "print(\"전체 3D 안경 개수: {0}\".format(glasses))\n",
    "glasses = rent_return(glasses, 2) \n",
    "print(\"남은 3D 안경 개수: {0}\".format(glasses))"
   ]
  }
 ],
 "metadata": {
  "kernelspec": {
   "display_name": "Python 3 (ipykernel)",
   "language": "python",
   "name": "python3"
  },
  "language_info": {
   "codemirror_mode": {
    "name": "ipython",
    "version": 3
   },
   "file_extension": ".py",
   "mimetype": "text/x-python",
   "name": "python",
   "nbconvert_exporter": "python",
   "pygments_lexer": "ipython3",
   "version": "3.11.5"
  }
 },
 "nbformat": 4,
 "nbformat_minor": 5
}
