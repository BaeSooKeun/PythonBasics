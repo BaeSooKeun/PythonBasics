{
 "cells": [
  {
   "cell_type": "code",
   "execution_count": 1,
   "id": "8739bfa0",
   "metadata": {},
   "outputs": [
    {
     "name": "stdout",
     "output_type": "stream",
     "text": [
      "나누기 전용 계산기입니다.\n",
      "첫 번째 숫자를 입력하세요 : 1\n",
      "두 번째 숫자를 입력하세요 : 2\n",
      "1 / 2 = 0\n",
      "나누기 전용 계산기입니다.\n",
      "첫 번째 숫자를 입력하세요 : 5\n",
      "두 번째 숫자를 입력하세요 : 1\n",
      "5 / 1 = 5\n"
     ]
    }
   ],
   "source": [
    "print(\"나누기 전용 계산기입니다.\")\n",
    "num1 = int(input(\"첫 번째 숫자를 입력하세요 : \"))\n",
    "num2 = int(input(\"두 번째 숫자를 입력하세요 : \"))\n",
    "print(\"{0} / {1} = {2}\".format(num1, num2, int(num1/num2)))\n",
    "\n",
    "\n",
    "try:\n",
    "    print(\"나누기 전용 계산기입니다.\")\n",
    "    num1 = int(input(\"첫 번째 숫자를 입력하세요 : \"))\n",
    "    num2 = int(input(\"두 번째 숫자를 입력하세요 : \"))\n",
    "    print(\"{0} / {1} = {2}\".format(num1, num2, int(num1/num2)))\n",
    "\n",
    "except ValueError:\n",
    "    print(\"오류 발생! 잘못된 값을 입력했습니다.\")"
   ]
  },
  {
   "cell_type": "code",
   "execution_count": 2,
   "id": "257aa624",
   "metadata": {},
   "outputs": [
    {
     "name": "stdout",
     "output_type": "stream",
     "text": [
      "나누기 전용 계산기입니다.\n",
      "첫 번째 숫자를 입력하세요 : 10\n",
      "두 번째 숫자를 입력하세요 : 30\n",
      "10 / 30 = 0\n",
      "나누기 전용 계산기입니다.\n",
      "첫 번째 숫자를 입력하세요 : 300\n",
      "두 번째 숫자를 입력하세요 : 20\n",
      "알 수 없는 오류가 발생했습니다.\n",
      "list index out of range\n"
     ]
    }
   ],
   "source": [
    "try:\n",
    "    print(\"나누기 전용 계산기입니다.\")\n",
    "    num1 = int(input(\"첫 번째 숫자를 입력하세요 : \"))\n",
    "    num2 = int(input(\"두 번째 숫자를 입력하세요 : \"))\n",
    "    print(\"{0} / {1} = {2}\".format(num1, num2, int(num1 / num2)))\n",
    "except ValueError:\n",
    "    print(\"오류 발생! 잘못된 값을 입력했습니다.\")\n",
    "except ZeroDivisionError as err:\n",
    "    print(err)\n",
    "\n",
    "\n",
    "try:\n",
    "    print(\"나누기 전용 계산기입니다.\")\n",
    "    nums = []\n",
    "    nums.append(int(input(\"첫 번째 숫자를 입력하세요 : \")))\n",
    "    nums.append(int(input(\"두 번째 숫자를 입력하세요 : \")))\n",
    "    print(\"{0} / {1} = {2}\".format(nums[0], nums[1], nums[2]))\n",
    "except ValueError:\n",
    "    print(\"오류 발생! 잘못된 값을 입력했습니다.\")\n",
    "except ZeroDivisionError as err:\n",
    "    print(err)\n",
    "except Exception as err:\n",
    "    print(\"알 수 없는 오류가 발생했습니다.\")\n",
    "    print(err)"
   ]
  },
  {
   "cell_type": "code",
   "execution_count": 4,
   "id": "653d3440",
   "metadata": {},
   "outputs": [
    {
     "name": "stdout",
     "output_type": "stream",
     "text": [
      "한 자리 숫자 나누기 전용 계산기입니다.\n",
      "첫 번째 숫자를 입력하세요 : 3\n",
      "두 번째 숫자를 입력하세요 : 2\n",
      "3 / 2 = 1\n"
     ]
    }
   ],
   "source": [
    "try:\n",
    "    print(\"한 자리 숫자 나누기 전용 계산기입니다.\")\n",
    "    num1 = int(input(\"첫 번째 숫자를 입력하세요 : \"))\n",
    "    num2 = int(input(\"두 번째 숫자를 입력하세요 : \"))\n",
    "    if num1 >= 10 or num2 >= 10: \n",
    "        raise ValueError\n",
    "    print(\"{0} / {1} = {2}\".format(num1, num2, int(num1 / num2)))\n",
    "except ValueError:\n",
    "    print(\"값을 잘못 입력했습니다. 한 자리 숫자만 입력하세요.\")"
   ]
  },
  {
   "cell_type": "code",
   "execution_count": 5,
   "id": "84585d39",
   "metadata": {},
   "outputs": [
    {
     "name": "stdout",
     "output_type": "stream",
     "text": [
      "한 자리 숫자 나누기 전용 계산기입니다.\n",
      "첫 번째 숫자를 입력하세요 : 5\n",
      "두 번째 숫자를 입력하세요 : 2\n",
      "5 / 2 = 2\n",
      "특별한 생성자\n",
      "특별한 메서드\n"
     ]
    }
   ],
   "source": [
    "class BigNumberError(Exception): \n",
    "    def __init__(self, msg):\n",
    "        self.msg = msg\n",
    "\n",
    "    def __str__(self):\n",
    "        return self.msg\n",
    "\n",
    "try:\n",
    "    print(\"한 자리 숫자 나누기 전용 계산기입니다.\")\n",
    "    num1 = int(input(\"첫 번째 숫자를 입력하세요 : \"))\n",
    "    num2 = int(input(\"두 번째 숫자를 입력하세요 : \"))\n",
    "    if num1 >= 10 or num2 >= 10: \n",
    "        raise BigNumberError(\"입력값 : {0}, {1}\".format(num1, num2))\n",
    "    print(\"{0} / {1} = {2}\".format(num1, num2, int(num1 / num2)))\n",
    "except ValueError:\n",
    "    print(\"값을 잘못 입력했습니다. 한 자리 숫자만 입력하세요.\")\n",
    "except BigNumberError as err: \n",
    "    print(\"오류가 발생했습니다. 한 자리 숫자만 입력하세요.\")\n",
    "    print(err) \n",
    "\n",
    "\n",
    "class SpecialClass():\n",
    "    def __init__(self):\n",
    "        print(\"특별한 생성자\")\n",
    "\n",
    "    def __str__(self):\n",
    "        return \"특별한 메서드\"\n",
    "\n",
    "s = SpecialClass() \n",
    "print(s)\n"
   ]
  },
  {
   "cell_type": "code",
   "execution_count": 6,
   "id": "65b95206",
   "metadata": {},
   "outputs": [
    {
     "name": "stdout",
     "output_type": "stream",
     "text": [
      "한 자리 숫자 나누기 전용 계산기입니다.\n",
      "첫 번째 숫자를 입력하세요 : 6\n",
      "두 번째 숫자를 입력하세요 : 2\n",
      "6 / 2 = 3\n",
      "계산기를 이용해 주셔서 감사합니다.\n"
     ]
    }
   ],
   "source": [
    "class BigNumberError(Exception): \n",
    "    def __init__(self, msg):\n",
    "        self.msg = msg\n",
    "\n",
    "    def __str__(self):\n",
    "        return self.msg\n",
    "\n",
    "try:\n",
    "    print(\"한 자리 숫자 나누기 전용 계산기입니다.\")\n",
    "    num1 = int(input(\"첫 번째 숫자를 입력하세요 : \"))\n",
    "    num2 = int(input(\"두 번째 숫자를 입력하세요 : \"))\n",
    "    if num1 >= 10 or num2 >= 10: \n",
    "        raise BigNumberError(\"입력값 : {0}, {1}\".format(num1, num2)) \n",
    "    print(\"{0} / {1} = {2}\".format(num1, num2, int(num1 / num2)))\n",
    "except ValueError:\n",
    "    print(\"값을 잘못 입력했습니다. 한 자리 숫자만 입력하세요.\")\n",
    "except BigNumberError as err: \n",
    "    print(\"오류가 발생했습니다. 한 자리 숫자만 입력하세요.\")\n",
    "    print(err) \n",
    "finally: \n",
    "    print(\"계산기를 이용해 주셔서 감사합니다.\")"
   ]
  }
 ],
 "metadata": {
  "kernelspec": {
   "display_name": "Python 3 (ipykernel)",
   "language": "python",
   "name": "python3"
  },
  "language_info": {
   "codemirror_mode": {
    "name": "ipython",
    "version": 3
   },
   "file_extension": ".py",
   "mimetype": "text/x-python",
   "name": "python",
   "nbconvert_exporter": "python",
   "pygments_lexer": "ipython3",
   "version": "3.11.5"
  }
 },
 "nbformat": 4,
 "nbformat_minor": 5
}
