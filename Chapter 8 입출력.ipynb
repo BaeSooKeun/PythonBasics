{
 "cells": [
  {
   "cell_type": "markdown",
   "id": "82c896b3",
   "metadata": {},
   "source": [
    "### 8.1 표준입력받기"
   ]
  },
  {
   "cell_type": "code",
   "execution_count": 6,
   "id": "52494692",
   "metadata": {},
   "outputs": [
    {
     "name": "stdout",
     "output_type": "stream",
     "text": [
      "아무말:10\n",
      "입력한 값은10입니다\n",
      "<class 'str'>\n"
     ]
    }
   ],
   "source": [
    "a=input(\"아무말:\")\n",
    "print(\"입력한 값은\"+a+\"입니다\")\n",
    "print(type(a))"
   ]
  },
  {
   "cell_type": "code",
   "execution_count": 8,
   "id": "fe538ad4",
   "metadata": {},
   "outputs": [
    {
     "name": "stdout",
     "output_type": "stream",
     "text": [
      "<class 'int'>\n",
      "<class 'int'>\n"
     ]
    }
   ],
   "source": [
    "print(type(int(a)))\n",
    "\n",
    "b=10\n",
    "print(type(int(b)))\n"
   ]
  },
  {
   "cell_type": "markdown",
   "id": "14002a56",
   "metadata": {},
   "source": [
    "### 8.2 표준 출력 시 유용한 기능"
   ]
  },
  {
   "cell_type": "code",
   "execution_count": 9,
   "id": "411fc731",
   "metadata": {},
   "outputs": [
    {
     "name": "stdout",
     "output_type": "stream",
     "text": [
      "파이썬 자바\n",
      "파이썬자바\n"
     ]
    }
   ],
   "source": [
    "print(\"파이썬\",\"자바\")\n",
    "print(\"파이썬\"+\"자바\")"
   ]
  },
  {
   "cell_type": "code",
   "execution_count": 11,
   "id": "0ae92cd9",
   "metadata": {},
   "outputs": [
    {
     "name": "stdout",
     "output_type": "stream",
     "text": [
      "파이썬,자바\n",
      "파이썬 vs 자바\n"
     ]
    }
   ],
   "source": [
    "print(\"파이썬\",\"자바\",sep=\",\")\n",
    "print(\"파이썬\",\"자바\",sep=\" vs \")\n"
   ]
  },
  {
   "cell_type": "code",
   "execution_count": 12,
   "id": "2c6e4934",
   "metadata": {},
   "outputs": [
    {
     "name": "stdout",
     "output_type": "stream",
     "text": [
      "파이썬 vs 자바?"
     ]
    }
   ],
   "source": [
    "print(\"파이썬\",\"자바\",sep=\" vs \",end=\"?\")"
   ]
  },
  {
   "cell_type": "code",
   "execution_count": 14,
   "id": "7da3eded",
   "metadata": {},
   "outputs": [],
   "source": [
    "#print(\"파이썬\",\"자바\",file=sys.stdout)\n",
    "#print(\"파이썬\",\"자바\",file=sys.stderr)\n"
   ]
  },
  {
   "cell_type": "code",
   "execution_count": 17,
   "id": "817b46f3",
   "metadata": {},
   "outputs": [
    {
     "name": "stdout",
     "output_type": "stream",
     "text": [
      "수학 0\n",
      "영어 50\n",
      "국어 100\n"
     ]
    }
   ],
   "source": [
    "scores={\"수학\":0,\"영어\":50,\"국어\":100}\n",
    "for subject,score in scores.items():\n",
    "    print(subject,score)"
   ]
  },
  {
   "cell_type": "code",
   "execution_count": 18,
   "id": "1f0ec2e7",
   "metadata": {},
   "outputs": [
    {
     "name": "stdout",
     "output_type": "stream",
     "text": [
      "수학      :   0\n",
      "영어      :  50\n",
      "국어      : 100\n"
     ]
    }
   ],
   "source": [
    "for subject,score in scores.items():\n",
    "    print(subject.ljust(8),str(score).rjust(4),sep=\":\")"
   ]
  },
  {
   "cell_type": "code",
   "execution_count": 19,
   "id": "869cca2f",
   "metadata": {},
   "outputs": [
    {
     "name": "stdout",
     "output_type": "stream",
     "text": [
      "대기번호:1\n",
      "대기번호:2\n",
      "대기번호:3\n",
      "대기번호:4\n",
      "대기번호:5\n",
      "대기번호:6\n",
      "대기번호:7\n",
      "대기번호:8\n",
      "대기번호:9\n",
      "대기번호:10\n",
      "대기번호:11\n",
      "대기번호:12\n",
      "대기번호:13\n",
      "대기번호:14\n",
      "대기번호:15\n",
      "대기번호:16\n",
      "대기번호:17\n",
      "대기번호:18\n",
      "대기번호:19\n",
      "대기번호:20\n"
     ]
    }
   ],
   "source": [
    "for num in range(1,21):\n",
    "    print(\"대기번호:\"+str(num))"
   ]
  },
  {
   "cell_type": "code",
   "execution_count": 20,
   "id": "7ab535cb",
   "metadata": {},
   "outputs": [
    {
     "name": "stdout",
     "output_type": "stream",
     "text": [
      "대기번호:001\n",
      "대기번호:002\n",
      "대기번호:003\n",
      "대기번호:004\n",
      "대기번호:005\n",
      "대기번호:006\n",
      "대기번호:007\n",
      "대기번호:008\n",
      "대기번호:009\n",
      "대기번호:010\n",
      "대기번호:011\n",
      "대기번호:012\n",
      "대기번호:013\n",
      "대기번호:014\n",
      "대기번호:015\n",
      "대기번호:016\n",
      "대기번호:017\n",
      "대기번호:018\n",
      "대기번호:019\n",
      "대기번호:020\n"
     ]
    }
   ],
   "source": [
    "for num in range(1,21):\n",
    "    print(\"대기번호:\"+str(num).zfill(3))"
   ]
  },
  {
   "cell_type": "markdown",
   "id": "28d9e253",
   "metadata": {},
   "source": [
    "### 8.3 다양한 형식으로 출력하기: format()"
   ]
  },
  {
   "cell_type": "code",
   "execution_count": 21,
   "id": "d238bfcb",
   "metadata": {},
   "outputs": [
    {
     "name": "stdout",
     "output_type": "stream",
     "text": [
      "500\n"
     ]
    }
   ],
   "source": [
    "print(\"{0}\".format(500))"
   ]
  },
  {
   "cell_type": "code",
   "execution_count": 24,
   "id": "e99bc093",
   "metadata": {},
   "outputs": [
    {
     "name": "stdout",
     "output_type": "stream",
     "text": [
      "       500\n"
     ]
    }
   ],
   "source": [
    "print(\"{0:>10}\".format(500)) #공간 10칸 확보"
   ]
  },
  {
   "cell_type": "code",
   "execution_count": 25,
   "id": "0715f694",
   "metadata": {},
   "outputs": [
    {
     "name": "stdout",
     "output_type": "stream",
     "text": [
      "      +500\n",
      "      -500\n"
     ]
    }
   ],
   "source": [
    "print(\"{0:>+10}\".format(500)) #부호 표시\n",
    "print(\"{0:>10}\".format(-500)) "
   ]
  },
  {
   "cell_type": "code",
   "execution_count": 26,
   "id": "25ce080c",
   "metadata": {},
   "outputs": [
    {
     "name": "stdout",
     "output_type": "stream",
     "text": [
      "500_______\n"
     ]
    }
   ],
   "source": [
    "print(\"{0:_<10}\".format(500)) "
   ]
  },
  {
   "cell_type": "code",
   "execution_count": 31,
   "id": "ba597ed2",
   "metadata": {},
   "outputs": [
    {
     "name": "stdout",
     "output_type": "stream",
     "text": [
      "1,000,000,000\n",
      "+1,000,000,000\n",
      "-1,000,000,000\n",
      "+1,000,000,000^^^^^^^^^^^^^^^^\n"
     ]
    }
   ],
   "source": [
    "print(\"{0:,}\".format(1000000000)) \n",
    "print(\"{0:+,}\".format(1000000000)) \n",
    "print(\"{0:+,}\".format(-1000000000)) \n",
    "print(\"{0:^<+30,}\".format(1000000000)) "
   ]
  },
  {
   "cell_type": "code",
   "execution_count": 33,
   "id": "0373056e",
   "metadata": {},
   "outputs": [
    {
     "name": "stdout",
     "output_type": "stream",
     "text": [
      "1.6666666666666667\n"
     ]
    }
   ],
   "source": [
    "print(\"{0}\".format(5/3)) "
   ]
  },
  {
   "cell_type": "code",
   "execution_count": 34,
   "id": "f99a3993",
   "metadata": {},
   "outputs": [
    {
     "name": "stdout",
     "output_type": "stream",
     "text": [
      "1.666667\n"
     ]
    }
   ],
   "source": [
    "print(\"{0:f}\".format(5/3)) "
   ]
  },
  {
   "cell_type": "code",
   "execution_count": 36,
   "id": "c18f8ab2",
   "metadata": {},
   "outputs": [
    {
     "name": "stdout",
     "output_type": "stream",
     "text": [
      "1.67\n"
     ]
    }
   ],
   "source": [
    "print(\"{0:.2f}\".format(5/3)) "
   ]
  },
  {
   "cell_type": "markdown",
   "id": "60596c7f",
   "metadata": {},
   "source": [
    "### 8.4 파일 입출력"
   ]
  },
  {
   "cell_type": "code",
   "execution_count": 43,
   "id": "a94b007c",
   "metadata": {},
   "outputs": [],
   "source": [
    "score_file=open(\"score.txt\",\"w\",encoding=\"utf8\")\n",
    "print(\"math:0\",file=score_file)\n",
    "print(\"eng:50\",file=score_file)\n",
    "score_file.close()"
   ]
  },
  {
   "cell_type": "code",
   "execution_count": 44,
   "id": "b7c2db2b",
   "metadata": {},
   "outputs": [],
   "source": [
    "#이어쓰기로 열기\n",
    "score_file=open(\"score.txt\",\"a\",encoding=\"utf8\")\n",
    "score_file.write(\"과학:80\\n\")\n",
    "score_file.write(\"코딩:100\\n\")\n",
    "score_file.close()"
   ]
  },
  {
   "cell_type": "code",
   "execution_count": 45,
   "id": "e04ea35e",
   "metadata": {},
   "outputs": [
    {
     "name": "stdout",
     "output_type": "stream",
     "text": [
      "math:0\n",
      "eng:50\n",
      "과학:80\n",
      "코딩:100\n",
      "\n"
     ]
    }
   ],
   "source": [
    "#읽기 모드로 열기\n",
    "score_file=open(\"score.txt\",\"r\",encoding=\"utf8\")\n",
    "print(score_file.read())\n",
    "score_file.close()"
   ]
  },
  {
   "cell_type": "code",
   "execution_count": 46,
   "id": "c53498fb",
   "metadata": {},
   "outputs": [
    {
     "name": "stdout",
     "output_type": "stream",
     "text": [
      "math:0\n",
      "eng:50\n",
      "과학:80\n",
      "코딩:100\n"
     ]
    }
   ],
   "source": [
    "score_file=open(\"score.txt\",\"r\",encoding=\"utf8\")\n",
    "print(score_file.readline(),end=\"\")\n",
    "print(score_file.readline(),end=\"\")\n",
    "print(score_file.readline(),end=\"\")\n",
    "print(score_file.readline(),end=\"\")\n",
    "score_file.close()\n"
   ]
  },
  {
   "cell_type": "code",
   "execution_count": 50,
   "id": "f620533a",
   "metadata": {},
   "outputs": [
    {
     "name": "stdout",
     "output_type": "stream",
     "text": [
      "math:0\n",
      "eng:50\n",
      "과학:80\n",
      "코딩:100\n"
     ]
    }
   ],
   "source": [
    "score_file=open(\"score.txt\",\"r\",encoding=\"utf8\")\n",
    "while True:\n",
    "    line=score_file.readline()\n",
    "    if not line:\n",
    "        break\n",
    "    print(line,end=\"\")\n",
    "score_file.close()"
   ]
  },
  {
   "cell_type": "code",
   "execution_count": 51,
   "id": "b1ec43b7",
   "metadata": {},
   "outputs": [
    {
     "name": "stdout",
     "output_type": "stream",
     "text": [
      "math:0\n",
      "eng:50\n",
      "과학:80\n",
      "코딩:100\n"
     ]
    }
   ],
   "source": [
    "score_file=open(\"score.txt\",\"r\",encoding=\"utf8\")\n",
    "lines=score_file.readlines()\n",
    "for line in lines:\n",
    "    print(line,end=\"\")"
   ]
  },
  {
   "cell_type": "markdown",
   "id": "02551d3d",
   "metadata": {},
   "source": [
    "### 8.5 데이터를 파일로 저장하기: pickle 모듈"
   ]
  },
  {
   "cell_type": "code",
   "execution_count": 6,
   "id": "e725dc3c",
   "metadata": {},
   "outputs": [
    {
     "name": "stdout",
     "output_type": "stream",
     "text": [
      "{'이름': '스누피', '나이': 30, '취미': ['축구', '골프', '코딩']}\n",
      "{'이름': '스누피', '나이': 30, '취미': ['축구', '골프', '코딩']}\n"
     ]
    }
   ],
   "source": [
    "import pickle\n",
    "profile_file=open(\"profile.pickle\",\"wb\") #바이너리 형태로 저장\n",
    "profile={\"이름\":\"스누피\",\"나이\":30,\"취미\":[\"축구\",\"골프\",\"코딩\"]}\n",
    "print(profile)\n",
    "\n",
    "pickle.dump(profile,profile_file) #profile 데이터를 파일에 저장\n",
    "profile_file.close\n",
    "\n",
    "profile_file=open(\"profile.pickle\",\"rb\")\n",
    "profile=pickle.load(profile_file)\n",
    "print(profile)\n",
    "profile_file.close()"
   ]
  },
  {
   "cell_type": "markdown",
   "id": "0413c30c",
   "metadata": {},
   "source": [
    "### 8.6 파일 한 번에 열고 닫기: with 문"
   ]
  },
  {
   "cell_type": "code",
   "execution_count": 8,
   "id": "c8331d9d",
   "metadata": {},
   "outputs": [
    {
     "name": "stdout",
     "output_type": "stream",
     "text": [
      "{'이름': '스누피', '나이': 30, '취미': ['축구', '골프', '코딩']}\n"
     ]
    }
   ],
   "source": [
    "with open(\"profile.pickle\",\"rb\") as pf:\n",
    "    print(pickle.load(pf))"
   ]
  },
  {
   "cell_type": "code",
   "execution_count": 12,
   "id": "d0fadaa0",
   "metadata": {},
   "outputs": [],
   "source": [
    "with open(\"profile.pickle\",\"w\",encoding=\"utf8\") as cf:\n",
    "    cf.write(\"파이썬을 열심히 공부하고 있어요.\")"
   ]
  },
  {
   "cell_type": "code",
   "execution_count": 13,
   "id": "85f41471",
   "metadata": {},
   "outputs": [
    {
     "name": "stdout",
     "output_type": "stream",
     "text": [
      "파이썬을 열심히 공부하고 있어요.\n"
     ]
    }
   ],
   "source": [
    "with open(\"profile.pickle\",\"r\",encoding=\"utf8\") as cf:\n",
    "    print(cf.read())"
   ]
  },
  {
   "cell_type": "markdown",
   "id": "c6f04e9c",
   "metadata": {},
   "source": [
    "### 8.7 실습문제: 보고서 파일 만들기"
   ]
  },
  {
   "cell_type": "code",
   "execution_count": 15,
   "id": "fb04f5fd",
   "metadata": {},
   "outputs": [],
   "source": [
    "#이거 돌리면 파일 50개 생기니까 돌리지 마셈\n",
    "for i in range(1,51):\n",
    "    with open(str(i) +\"주차.txt\",\"w\",encoding=\"utf8\") as rf:\n",
    "        rf.write(\"-{0}주차 주간보고\".format(i))\n",
    "        rf.write(\"\\n부서:\")\n",
    "        rf.write(\"\\n이름:\")\n",
    "        rf.write(\"\\n업무 요약:\")"
   ]
  },
  {
   "cell_type": "markdown",
   "id": "1dd4b88a",
   "metadata": {},
   "source": [
    "### 255P 셀프체크 문제"
   ]
  },
  {
   "cell_type": "code",
   "execution_count": 17,
   "id": "7c7dcbf9",
   "metadata": {},
   "outputs": [
    {
     "name": "stdout",
     "output_type": "stream",
     "text": [
      "초록반5세20명\n",
      "파랑반6세18명\n",
      "노랑반7세22명\n"
     ]
    }
   ],
   "source": [
    "with open(\"class.txt\",\"r\",encoding=\"utf8\") as f:\n",
    "        txt=f.read()\n",
    "        words=txt.split()\n",
    "        for word in words:\n",
    "            print(word,end=\"\")\n",
    "            if word.endswith(\"명\"):\n",
    "                print()"
   ]
  }
 ],
 "metadata": {
  "kernelspec": {
   "display_name": "Python 3 (ipykernel)",
   "language": "python",
   "name": "python3"
  },
  "language_info": {
   "codemirror_mode": {
    "name": "ipython",
    "version": 3
   },
   "file_extension": ".py",
   "mimetype": "text/x-python",
   "name": "python",
   "nbconvert_exporter": "python",
   "pygments_lexer": "ipython3",
   "version": "3.11.5"
  }
 },
 "nbformat": 4,
 "nbformat_minor": 5
}
