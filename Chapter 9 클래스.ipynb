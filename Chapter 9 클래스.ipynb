{
 "cells": [
  {
   "cell_type": "markdown",
   "id": "cb028ed0",
   "metadata": {},
   "source": [
    "### 9.1 게임 소개"
   ]
  },
  {
   "cell_type": "code",
   "execution_count": 9,
   "id": "51a2a1d7",
   "metadata": {},
   "outputs": [
    {
     "name": "stdout",
     "output_type": "stream",
     "text": [
      "보병유닛을 생성합니다\n",
      "체력40,공격력5\n",
      "\n",
      "탱크유닛을 생성합니다\n",
      "체력150,공격력35\n",
      "\n",
      "탱크유닛을 생성합니다\n",
      "체력150,공격력35\n",
      "\n"
     ]
    }
   ],
   "source": [
    "name=\"보병\"\n",
    "hp=40\n",
    "damage=5\n",
    "print(\"{}유닛을 생성합니다\".format(name))\n",
    "print(\"체력{0},공격력{1}\\n\".format(hp,damage))\n",
    "\n",
    "tn=\"탱크\"\n",
    "thp=150\n",
    "tdm=35\n",
    "print(\"{}유닛을 생성합니다\".format(tn))\n",
    "print(\"체력{0},공격력{1}\\n\".format(thp,tdm))\n",
    "\n",
    "t2=\"탱크\"\n",
    "t2hp=150\n",
    "t2dm=35\n",
    "print(\"{}유닛을 생성합니다\".format(t2))\n",
    "print(\"체력{0},공격력{1}\\n\".format(t2hp,t2dm))"
   ]
  },
  {
   "cell_type": "code",
   "execution_count": 10,
   "id": "383cc914",
   "metadata": {},
   "outputs": [
    {
     "name": "stdout",
     "output_type": "stream",
     "text": [
      "보병:1시방향 적군을 공격중. [공격력5]\n",
      "탱크:1시방향 적군을 공격중. [공격력35]\n",
      "탱크:1시방향 적군을 공격중. [공격력35]\n"
     ]
    }
   ],
   "source": [
    "def attack(name,location,damage):\n",
    "    print(\"{0}:{1}방향 적군을 공격중. [공격력{2}]\".format(name,location,damage))\n",
    "attack(name,\"1시\",damage)\n",
    "attack(tn,\"1시\",tdm)\n",
    "attack(t2,\"1시\",t2dm)"
   ]
  },
  {
   "cell_type": "markdown",
   "id": "c97ae10e",
   "metadata": {},
   "source": [
    "### 9.2 클래스와 객체 생성하기"
   ]
  },
  {
   "cell_type": "code",
   "execution_count": 16,
   "id": "6ff19bdf",
   "metadata": {},
   "outputs": [],
   "source": [
    "class Unit:\n",
    "    def __init__(self,name,hp,damage):\n",
    "        self.name=name\n",
    "        self.hp=hp\n",
    "        self.damage=damage\n",
    "        print(\"{0}유닛을 생성함\".format(self.name))\n",
    "        print(\"체력{0}, 공격력{1}\".format(self.hp,self.damage))"
   ]
  },
  {
   "cell_type": "code",
   "execution_count": 18,
   "id": "64da1719",
   "metadata": {},
   "outputs": [
    {
     "name": "stdout",
     "output_type": "stream",
     "text": [
      "보병유닛을 생성함\n",
      "체력40, 공격력5\n",
      "보병유닛을 생성함\n",
      "체력40, 공격력5\n",
      "탱크유닛을 생성함\n",
      "체력150, 공격력35\n"
     ]
    }
   ],
   "source": [
    "s1=Unit(\"보병\",40,5)\n",
    "s2=Unit(\"보병\",40,5)\n",
    "t= Unit(\"탱크\",150,35)\n",
    "#여기서 만약 \"보병\" 이렇게만 있으면 에러가 난다."
   ]
  },
  {
   "cell_type": "code",
   "execution_count": 23,
   "id": "fb415173",
   "metadata": {},
   "outputs": [
    {
     "name": "stdout",
     "output_type": "stream",
     "text": [
      "전투기유닛을 생성함\n",
      "체력80, 공격력5\n",
      "유닛 이름: 전투기,공격력:5\n"
     ]
    }
   ],
   "source": [
    "stealth1=Unit(\"전투기\",80,5)\n",
    "print(\"유닛 이름: {0},공격력:{1}\".format(stealth1.name,stealth1.damage))"
   ]
  },
  {
   "cell_type": "code",
   "execution_count": 22,
   "id": "b2aafe5b",
   "metadata": {},
   "outputs": [
    {
     "name": "stdout",
     "output_type": "stream",
     "text": [
      "전투기유닛을 생성함\n",
      "체력80, 공격력5\n"
     ]
    }
   ],
   "source": [
    "stealth2=Unit(\"전투기\",80,5)\n",
    "stealth2.cloaking=True"
   ]
  },
  {
   "cell_type": "code",
   "execution_count": 24,
   "id": "38ceb154",
   "metadata": {},
   "outputs": [
    {
     "name": "stdout",
     "output_type": "stream",
     "text": [
      "전투기는 현재 은폐 상태입니다.\n"
     ]
    }
   ],
   "source": [
    "if stealth2.cloaking == True:\n",
    "    print(\"{0}는 현재 은폐 상태입니다.\".format(stealth2.name))"
   ]
  },
  {
   "cell_type": "code",
   "execution_count": 37,
   "id": "924cd963",
   "metadata": {},
   "outputs": [],
   "source": [
    "class AttackUnit:\n",
    "    def __init__(self,name,hp,damage):\n",
    "        self.name=name\n",
    "        self.hp=hp\n",
    "        self.damage=damage\n",
    "        \n",
    "    def attack(self,location):\n",
    "        print(\"{0}:{1}방향 공격중입니다.[공격력{2}]\".format(self.name,location,self.damage))\n",
    "        \n",
    "    def damaged(self,damage):\n",
    "        print(\"{0} : {1}만큼 피해를 입었습니다\".format(self.name,damage))\n",
    "        self.hp -= damage\n",
    "        print(\"{0}:현재 체력은 {1}입니다.\".format(self.name,self.hp))\n",
    "        if self.hp<=0:\n",
    "            print(\"{0}: 파괘됐습니다.\".format(self.name))"
   ]
  },
  {
   "cell_type": "code",
   "execution_count": 38,
   "id": "e666db7b",
   "metadata": {},
   "outputs": [
    {
     "name": "stdout",
     "output_type": "stream",
     "text": [
      "화염방사병:5시방향 공격중입니다.[공격력16]\n",
      "화염방사병 : 25만큼 피해를 입었습니다\n",
      "화염방사병:현재 체력은 25입니다.\n",
      "화염방사병 : 25만큼 피해를 입었습니다\n",
      "화염방사병:현재 체력은 0입니다.\n",
      "화염방사병: 파괘됐습니다.\n"
     ]
    }
   ],
   "source": [
    "ft1=AttackUnit(\"화염방사병\",50,16)\n",
    "ft1.attack(\"5시\")\n",
    "ft1.damaged(25)\n",
    "ft1.damaged(25)"
   ]
  },
  {
   "cell_type": "markdown",
   "id": "2b52604e",
   "metadata": {},
   "source": [
    "### 9.3 클래스 상속하기"
   ]
  },
  {
   "cell_type": "code",
   "execution_count": 1,
   "id": "915b9452",
   "metadata": {},
   "outputs": [
    {
     "name": "stdout",
     "output_type": "stream",
     "text": [
      "화염방사병 : 5시 방향 적군을 공격합니다. [공격력 16]\n",
      "화염방사병 : 25만큼 피해를 입었습니다.\n",
      "화염방사병 : 현재 체력은 25입니다.\n",
      "화염방사병 : 25만큼 피해를 입었습니다.\n",
      "화염방사병 : 현재 체력은 0입니다.\n",
      "화염방사병 : 파괴됐습니다.\n"
     ]
    }
   ],
   "source": [
    "class Unit:\n",
    "    def __init__(self, name, hp):\n",
    "        self.name = name \n",
    "        self.hp = hp \n",
    "\n",
    "class AttackUnit(Unit): \n",
    "    def __init__(self, name, hp, damage):\n",
    "        Unit.__init__(self, name, hp) \n",
    "        self.damage = damage\n",
    "    \n",
    "    def attack(self, location): \n",
    "        print(\"{0} : {1} 방향 적군을 공격합니다. [공격력 {2}]\" \\\n",
    "            .format(self.name, location, self.damage)) \n",
    "\n",
    "    def damaged(self, damage): \n",
    "        print(\"{0} : {1}만큼 피해를 입었습니다.\".format(self.name, damage))\n",
    "        self.hp -= damage\n",
    "        print(\"{0} : 현재 체력은 {1}입니다.\".format(self.name, self.hp))\n",
    "        if self.hp <= 0:\n",
    "            print(\"{0} : 파괴됐습니다.\".format(self.name)) \n",
    "\n",
    "flamethrower1 = AttackUnit(\"화염방사병\", 50, 16)\n",
    "flamethrower1.attack(\"5시\") \n",
    "\n",
    "flamethrower1.damaged(25) \n",
    "flamethrower1.damaged(25) "
   ]
  },
  {
   "cell_type": "code",
   "execution_count": 2,
   "id": "04532153",
   "metadata": {},
   "outputs": [
    {
     "name": "stdout",
     "output_type": "stream",
     "text": [
      "요격기 : 3시 방향으로 날아갑니다. [속도 5]\n"
     ]
    }
   ],
   "source": [
    "class Unit:\n",
    "    def __init__(self, name, hp):\n",
    "        self.name = name \n",
    "        self.hp = hp \n",
    "\n",
    "class AttackUnit(Unit): \n",
    "    def __init__(self, name, hp, damage):\n",
    "        Unit.__init__(self, name, hp) \n",
    "        self.damage = damage\n",
    "    \n",
    "    def attack(self, location): \n",
    "        print(\"{0} : {1} 방향 적군을 공격합니다. [공격력 {2}]\" \\\n",
    "            .format(self.name, location, self.damage)) \n",
    "\n",
    "    def damaged(self, damage): \n",
    "        print(\"{0} : {1}만큼 피해를 입었습니다.\".format(self.name, damage))\n",
    "        self.hp -= damage \n",
    "        print(\"{0} : 현재 체력은 {1}입니다.\".format(self.name, self.hp))\n",
    "        if self.hp <= 0: \n",
    "            print(\"{0} : 파괴됐습니다.\".format(self.name)) \n",
    "\n",
    "class Flyable:\n",
    "    def __init__(self, flying_speed): \n",
    "        self.flying_speed = flying_speed\n",
    "    \n",
    "    def fly(self, name, location): \n",
    "        print(\"{0} : {1} 방향으로 날아갑니다. [속도 {2}]\" \\\n",
    "            .format(name, location, self.flying_speed))\n",
    "\n",
    "class FlyableAttackUnit(AttackUnit, Flyable):\n",
    "    def __init__(self, name, hp, damage, flying_speed): \n",
    "        AttackUnit.__init__(self, name, hp, damage) \n",
    "        Flyable.__init__(self, flying_speed) \n",
    "\n",
    "interceptor = FlyableAttackUnit(\"요격기\", 200, 6, 5) \n",
    "interceptor.fly(interceptor.name, \"3시\") \n"
   ]
  },
  {
   "cell_type": "code",
   "execution_count": 3,
   "id": "cb0c97c0",
   "metadata": {},
   "outputs": [
    {
     "name": "stdout",
     "output_type": "stream",
     "text": [
      "[지상 유닛 이동]\n",
      "호버 바이크 : 11시 방향으로 이동합니다. [속도 10]\n",
      "[공중 유닛 이동]\n",
      "우주 순양함 : 9시 방향으로 날아갑니다. [속도 3]\n"
     ]
    }
   ],
   "source": [
    "class Unit:\n",
    "    def __init__(self, name, hp, speed): \n",
    "        self.name = name\n",
    "        self.hp = hp\n",
    "        self.speed = speed \n",
    "\n",
    "    def move(self, location): \n",
    "        print(\"[지상 유닛 이동]\")\n",
    "        print(\"{0} : {1} 방향으로 이동합니다. [속도 {2}]\" \\\n",
    "            .format(self.name, location, self.speed))\n",
    "\n",
    "class AttackUnit(Unit): \n",
    "    def __init__(self, name, hp, damage, speed): \n",
    "        Unit.__init__(self, name, hp, speed) \n",
    "        self.damage = damage\n",
    "\n",
    "    def attack(self, location):\n",
    "        print(\"{0} : {1} 방향 적군을 공격합니다. [공격력 {2}]\".format(self.name, location, self.damage)) \n",
    "\n",
    "    def damaged(self, damage): \n",
    "        print(\"{0} : {1}만큼 피해를 입었습니다.\".format(self.name, damage))\n",
    "        self.hp -= damage \n",
    "        print(\"{0} : 현재 체력은 {1}입니다.\".format(self.name, self.hp))\n",
    "        if self.hp <= 0:\n",
    "            print(\"{0} : 파괴됐습니다.\".format(self.name)) \n",
    "\n",
    "class Flyable:\n",
    "    def __init__(self, flying_speed):\n",
    "        self.flying_speed = flying_speed\n",
    "    \n",
    "    def fly(self, name, location): \n",
    "        print(\"{0} : {1} 방향으로 날아갑니다. [속도 {2}]\".format(name, location, self.flying_speed))\n",
    "\n",
    "# 공중 공격 유닛\n",
    "class FlyableAttackUnit(AttackUnit, Flyable):\n",
    "    def __init__(self, name, hp, damage, flying_speed):\n",
    "        AttackUnit.__init__(self, name, hp, damage, 0) \n",
    "        Flyable.__init__(self, flying_speed) \n",
    "\n",
    "    def move(self, location): \n",
    "        print(\"[공중 유닛 이동]\")\n",
    "        self.fly(self.name, location)\n",
    "\n",
    "hoverbike = AttackUnit(\"호버 바이크\", 80, 20, 10) \n",
    "\n",
    "spacecruiser = FlyableAttackUnit(\"우주 순양함\", 500, 25, 3) \n",
    "\n",
    "hoverbike.move(\"11시\")\n",
    "spacecruiser.move(\"9시\")"
   ]
  },
  {
   "cell_type": "markdown",
   "id": "ef8837f7",
   "metadata": {},
   "source": [
    "### 9.4"
   ]
  },
  {
   "cell_type": "code",
   "execution_count": 4,
   "id": "55604df0",
   "metadata": {},
   "outputs": [
    {
     "name": "stdout",
     "output_type": "stream",
     "text": [
      "[알림] 새로운 게임을 시작합니다.\n"
     ]
    }
   ],
   "source": [
    "class BuildingUnit(Unit):\n",
    "    def __init__(self, name, hp, location):\n",
    "        pass\n",
    "\n",
    "supply_depot = BuildingUnit(\"보급고\", 500, \"7시\") \n",
    "\n",
    "def game_start():\n",
    "    print(\"[알림] 새로운 게임을 시작합니다.\")\n",
    "\n",
    "def game_over():\n",
    "    pass\n",
    "\n",
    "game_start()\n",
    "game_over()"
   ]
  },
  {
   "cell_type": "markdown",
   "id": "eb04e297",
   "metadata": {},
   "source": [
    "### 9.5"
   ]
  },
  {
   "cell_type": "code",
   "execution_count": null,
   "id": "c781dfa9",
   "metadata": {},
   "outputs": [],
   "source": [
    "class BuildingUnit(Unit):\n",
    "    def __init__(self, name, hp, location):\n",
    "        #Unit.__init__(self, name, hp, 0) # 지상 이동 속도 0, 건물은 지상 이동 불가\n",
    "        super().__init__(name, hp, 0) # 부모 클래스 접근, self 없이 사용\n",
    "        self.location = location"
   ]
  },
  {
   "cell_type": "markdown",
   "id": "ceb5ba4d",
   "metadata": {},
   "source": [
    "### 9.6"
   ]
  },
  {
   "cell_type": "code",
   "execution_count": 5,
   "id": "b3bc7095",
   "metadata": {},
   "outputs": [],
   "source": [
    "class Unit:\n",
    "    def __init__(self, name, hp, speed):\n",
    "        self.name = name\n",
    "        self.hp = hp\n",
    "        self.speed = speed\n",
    "        print(\"{0} 유닛을 생성했습니다.\".format(name)) # 안내 문구 출력\n",
    "    \n",
    "    def move(self, location):\n",
    "        # print(\"[지상 유닛 이동]\") # 출력문 삭제\n",
    "        print(\"{0} : {1} 방향으로 이동합니다. [속도 {2}]\" \\\n",
    "            .format(self.name, location, self.speed))\n",
    "\n",
    "    def damaged(self, damage): # AttackUnit 클래스에서 Unit 클래스로 이동\n",
    "        print(\"{0} : {1}만큼 피해를 입었습니다.\".format(self.name, damage))\n",
    "        self.hp -= damage\n",
    "        print(\"{0} : 현재 체력은 {1}입니다.\".format(self.name, self.hp))\n",
    "        if self.hp <= 0:\n",
    "            print(\"{0} : 파괴됐습니다.\".format(self.name))\n",
    "    \n",
    "# 공격 유닛\n",
    "class AttackUnit(Unit):\n",
    "    def __init__(self, name, hp, damage, speed):\n",
    "        Unit.__init__(self, name, hp, speed)\n",
    "        self.damage = damage\n",
    "    \n",
    "    def attack(self, location):\n",
    "        print(\"{0} : {1} 방향 적군을 공격합니다. [공격력 {2}]\" \\\n",
    "            .format(self.name, location, self.damage))\n",
    "    \n",
    "    \"\"\"\n",
    "    def damaged(self, damage): # Unit 클래스로 이동\n",
    "        print(\"{0} : {1}만큼 피해를 입었습니다.\".format(self.name, damage))\n",
    "        self.hp -= damage\n",
    "        print(\"{0} : 현재 체력은 {1}입니다.\".format(self.name, self.hp))\n",
    "        if self.hp <= 0:\n",
    "            print(\"{0} : 파괴됐습니다.\".format(self.name))\n",
    "    \"\"\"\n",
    "\n",
    "# 보병 유닛\n",
    "class Soldier(AttackUnit): # AttackUnit 클래스 상속\n",
    "    def __init__(self):\n",
    "        AttackUnit.__init__(self, \"보병\", 40, 5, 1) # 이름, 체력, 공격력, 이동 속도\n",
    "\n",
    "    # 강화제 : 일정 시간 동안 이동 속도와 공격 속도 증가, 체력 10 감소\n",
    "    def booster(self): # 강화제 기능 메서드로 정의\n",
    "        if self.hp > 10:\n",
    "            self.hp -= 10 # 체력 10 소모\n",
    "            print(\"{0} : 강화제를 사용합니다. (HP 10 감소)\".format(self.name))\n",
    "        else:\n",
    "            print(\"{0} : 체력이 부족해 기술을 사용할 수 없습니다\".format(self.name))\n",
    "\n",
    "# 탱크 유닛\n",
    "class Tank(AttackUnit): # AttackUnit 클래스 상속\n",
    "    # 시지 모드 : 탱크를 지상에 고정, 이동 불가, 공격력 증가\n",
    "    siege_developed = False # 시지 모드 개발 여부, 클래스 변수로 정의\n",
    "\n",
    "    def __init__(self):\n",
    "        AttackUnit.__init__(self, \"탱크\", 150, 35, 1) # 이름, 체력, 공격력, 이동 속도\n",
    "        self.siege_mode = False # 시지 모드(해제 상태), 인스턴스 변수로 정의\n",
    "\n",
    "    # 시지 모드 설정\n",
    "    def set_siege_mode(self):\n",
    "        if Tank.siege_developed == False: # 시지 모드가 개발되지 않았으면 바로 반환\n",
    "            return\n",
    "        # 현재 일반 모드일 때\n",
    "        if self.siege_mode == False: # 시지 모드 여부 확인\n",
    "            print(\"{0} : 시지 모드로 전환합니다.\".format(self.name)) # 시지 모드 전환\n",
    "            self.damage *= 2 # 공격력 2배 증가\n",
    "            self.siege_mode = True # 시지 모드 설정\n",
    "        # 현재 시지 모드일 때\n",
    "        else:\n",
    "            print(\"{0} : 시지 모드를 해제합니다.\".format(self.name)) # 일반 모드 전환\n",
    "            self.damage //= 2 # 공격력 절반으로 감소\n",
    "            self.siege_mode = False # 시지 모드 해제\n",
    "\n",
    "# 나는 기능\n",
    "class Flyable:\n",
    "    def __init__(self, flying_speed):\n",
    "        self.flying_speed = flying_speed\n",
    "\n",
    "    def fly(self, name, location):\n",
    "        print(\"{0} : {1} 방향으로 날아갑니다. [속도 {2}]\" \\\n",
    "            .format(name, location, self.flying_speed))\n",
    "\n",
    "# 공중 공격 유닛\n",
    "class FlyableAttackUnit(AttackUnit, Flyable):\n",
    "    def __init__(self, name, hp, damage, flying_speed):\n",
    "        AttackUnit.__init__(self, name, hp, damage, 0)\n",
    "        Flyable.__init__(self, flying_speed)\n",
    "    \n",
    "    def move(self, location):\n",
    "        # print(\"[공중 유닛 이동]\") # 출력문 삭제\n",
    "        self.fly(self.name, location)\n",
    "\n",
    "# 전투기 유닛\n",
    "class Stealth(FlyableAttackUnit): # FlyableAttackUnit 클래스 상속\n",
    "    def __init__(self):\n",
    "        FlyableAttackUnit.__init__(self, \"전투기\", 80, 20, 5) # 부모 클래스 생성자로 기본 정보 설정\n",
    "        self.cloaked = False # 은폐 모드(해제 상태), 인스턴스 변수 정의\n",
    "\n",
    "    def cloaking(self): # 은폐 모드를 메서드로 정의\n",
    "        # 현재 은폐 모드일 때\n",
    "        if self.cloaked == True:\n",
    "            print(\"{0} : 은폐 모드를 해제합니다.\".format(self.name))\n",
    "            self.cloaked = False # 은폐 모드 해제\n",
    "        # 현재 은폐 모드가 아닐 때\n",
    "        else:\n",
    "            print(\"{0} : 은폐 모드를 설정합니다.\".format(self.name))\n",
    "            self.cloaked = True # 은폐 모드 설정"
   ]
  },
  {
   "cell_type": "code",
   "execution_count": 7,
   "id": "f650d5de",
   "metadata": {},
   "outputs": [],
   "source": [
    "def game_start():\n",
    "    print(\"[알림] 새로운 게임을 시작합니다.\")\n",
    "\n",
    "def game_over():\n",
    "    print(\"Player : Good Game\")\n",
    "    print(\"[Player] 님이 게임에서 퇴장했습니다.\")"
   ]
  },
  {
   "cell_type": "code",
   "execution_count": 8,
   "id": "ad885f6e",
   "metadata": {},
   "outputs": [
    {
     "name": "stdout",
     "output_type": "stream",
     "text": [
      "[알림] 새로운 게임을 시작합니다.\n",
      "보병 유닛을 생성했습니다.\n",
      "보병 유닛을 생성했습니다.\n",
      "보병 유닛을 생성했습니다.\n",
      "탱크 유닛을 생성했습니다.\n",
      "탱크 유닛을 생성했습니다.\n",
      "전투기 유닛을 생성했습니다.\n",
      "보병 : 1시 방향으로 이동합니다. [속도 1]\n",
      "보병 : 1시 방향으로 이동합니다. [속도 1]\n",
      "보병 : 1시 방향으로 이동합니다. [속도 1]\n",
      "탱크 : 1시 방향으로 이동합니다. [속도 1]\n",
      "탱크 : 1시 방향으로 이동합니다. [속도 1]\n",
      "전투기 : 1시 방향으로 날아갑니다. [속도 5]\n"
     ]
    }
   ],
   "source": [
    "game_start()\n",
    "\n",
    "so1 = Soldier()\n",
    "so2 = Soldier()\n",
    "so3 = Soldier()\n",
    "\n",
    "ta1 = Tank()\n",
    "ta2 = Tank()\n",
    "\n",
    "st1 = Stealth()\n",
    "\n",
    "attack_units = []\n",
    "attack_units.append(so1)\n",
    "attack_units.append(so2)\n",
    "attack_units.append(so3)\n",
    "attack_units.append(ta1)\n",
    "attack_units.append(ta2)\n",
    "attack_units.append(st1)\n",
    "\n",
    "for unit in attack_units:\n",
    "    unit.move(\"1시\")"
   ]
  },
  {
   "cell_type": "code",
   "execution_count": 9,
   "id": "0560e37d",
   "metadata": {},
   "outputs": [
    {
     "name": "stdout",
     "output_type": "stream",
     "text": [
      "[알림] 탱크의 시지 모드 개발이 완료됐습니다.\n",
      "보병 : 강화제를 사용합니다. (HP 10 감소)\n",
      "보병 : 강화제를 사용합니다. (HP 10 감소)\n",
      "보병 : 강화제를 사용합니다. (HP 10 감소)\n",
      "탱크 : 시지 모드로 전환합니다.\n",
      "탱크 : 시지 모드로 전환합니다.\n",
      "전투기 : 은폐 모드를 설정합니다.\n",
      "보병 : 1시 방향 적군을 공격합니다. [공격력 5]\n",
      "보병 : 1시 방향 적군을 공격합니다. [공격력 5]\n",
      "보병 : 1시 방향 적군을 공격합니다. [공격력 5]\n",
      "탱크 : 1시 방향 적군을 공격합니다. [공격력 70]\n",
      "탱크 : 1시 방향 적군을 공격합니다. [공격력 70]\n",
      "전투기 : 1시 방향 적군을 공격합니다. [공격력 20]\n",
      "보병 : 12만큼 피해를 입었습니다.\n",
      "보병 : 현재 체력은 18입니다.\n",
      "보병 : 20만큼 피해를 입었습니다.\n",
      "보병 : 현재 체력은 10입니다.\n",
      "보병 : 10만큼 피해를 입었습니다.\n",
      "보병 : 현재 체력은 20입니다.\n",
      "탱크 : 7만큼 피해를 입었습니다.\n",
      "탱크 : 현재 체력은 143입니다.\n",
      "탱크 : 17만큼 피해를 입었습니다.\n",
      "탱크 : 현재 체력은 133입니다.\n",
      "전투기 : 11만큼 피해를 입었습니다.\n",
      "전투기 : 현재 체력은 69입니다.\n",
      "Player : Good Game\n",
      "[Player] 님이 게임에서 퇴장했습니다.\n"
     ]
    }
   ],
   "source": [
    "Tank.siege_developed = True\n",
    "print(\"[알림] 탱크의 시지 모드 개발이 완료됐습니다.\")\n",
    "\n",
    "for unit in attack_units:\n",
    "    if isinstance(unit, Soldier): \n",
    "        unit.booster()\n",
    "    elif isinstance(unit, Tank): \n",
    "        unit.set_siege_mode()\n",
    "    elif isinstance(unit, Stealth): \n",
    "        unit.cloaking()\n",
    "\n",
    "for unit in attack_units:\n",
    "    unit.attack(\"1시\")\n",
    "\n",
    "from random import *\n",
    "\n",
    "for unit in attack_units:\n",
    "    unit.damaged(randint(5, 20)) \n",
    "\n",
    "game_over()"
   ]
  },
  {
   "cell_type": "markdown",
   "id": "914820e7",
   "metadata": {},
   "source": [
    "### 9.7"
   ]
  },
  {
   "cell_type": "code",
   "execution_count": 10,
   "id": "fe6485f8",
   "metadata": {},
   "outputs": [
    {
     "name": "stdout",
     "output_type": "stream",
     "text": [
      "[알림] 새로운 게임을 시작합니다.\n",
      "보병 유닛을 생성했습니다.\n",
      "보병 유닛을 생성했습니다.\n",
      "보병 유닛을 생성했습니다.\n",
      "탱크 유닛을 생성했습니다.\n",
      "탱크 유닛을 생성했습니다.\n",
      "전투기 유닛을 생성했습니다.\n",
      "보병 : 1시 방향으로 이동합니다. [속도 1]\n",
      "보병 : 1시 방향으로 이동합니다. [속도 1]\n",
      "보병 : 1시 방향으로 이동합니다. [속도 1]\n",
      "탱크 : 1시 방향으로 이동합니다. [속도 1]\n",
      "탱크 : 1시 방향으로 이동합니다. [속도 1]\n",
      "전투기 : 1시 방향으로 날아갑니다. [속도 5]\n",
      "[알림] 탱크의 시지 모드 개발이 완료됐습니다.\n",
      "보병 : 강화제를 사용합니다. (HP 10 감소)\n",
      "보병 : 강화제를 사용합니다. (HP 10 감소)\n",
      "보병 : 강화제를 사용합니다. (HP 10 감소)\n",
      "탱크 : 시지 모드로 전환합니다.\n",
      "탱크 : 시지 모드로 전환합니다.\n",
      "전투기 : 은폐 모드를 설정합니다.\n",
      "보병 : 1시 방향 적군을 공격합니다. [공격력 5]\n",
      "보병 : 1시 방향 적군을 공격합니다. [공격력 5]\n",
      "보병 : 1시 방향 적군을 공격합니다. [공격력 5]\n",
      "탱크 : 1시 방향 적군을 공격합니다. [공격력 70]\n",
      "탱크 : 1시 방향 적군을 공격합니다. [공격력 70]\n",
      "전투기 : 1시 방향 적군을 공격합니다. [공격력 20]\n",
      "보병 : 9만큼 피해를 입었습니다.\n",
      "보병 : 현재 체력은 21입니다.\n",
      "보병 : 17만큼 피해를 입었습니다.\n",
      "보병 : 현재 체력은 13입니다.\n",
      "보병 : 15만큼 피해를 입었습니다.\n",
      "보병 : 현재 체력은 15입니다.\n",
      "탱크 : 10만큼 피해를 입었습니다.\n",
      "탱크 : 현재 체력은 140입니다.\n",
      "탱크 : 12만큼 피해를 입었습니다.\n",
      "탱크 : 현재 체력은 138입니다.\n",
      "전투기 : 12만큼 피해를 입었습니다.\n",
      "전투기 : 현재 체력은 68입니다.\n",
      "Player : Good Game\n",
      "[Player] 님이 게임에서 퇴장했습니다.\n"
     ]
    }
   ],
   "source": [
    "from random import *\n",
    "class Unit:\n",
    "    def __init__(self, name, hp, speed):\n",
    "        self.name = name\n",
    "        self.hp = hp\n",
    "        self.speed = speed\n",
    "        print(\"{0} 유닛을 생성했습니다.\".format(name))\n",
    "\n",
    "    def move(self, location):\n",
    "        print(\"{0} : {1} 방향으로 이동합니다. [속도 {2}]\" \\\n",
    "            .format(self.name, location, self.speed))\n",
    "\n",
    "    def damaged(self, damage):\n",
    "        print(\"{0} : {1}만큼 피해를 입었습니다.\".format(self.name, damage))\n",
    "        self.hp -= damage\n",
    "        print(\"{0} : 현재 체력은 {1}입니다.\".format(self.name, self.hp))\n",
    "        if self.hp <= 0:\n",
    "            print(\"{0} : 파괴됐습니다.\".format(self.name))\n",
    "\n",
    "class AttackUnit(Unit):\n",
    "    def __init__(self, name, hp, damage, speed):\n",
    "        Unit.__init__(self, name, hp, speed)\n",
    "        self.damage = damage\n",
    "\n",
    "    def attack(self, location):\n",
    "        print(\"{0} : {1} 방향 적군을 공격합니다. [공격력 {2}]\" \\\n",
    "            .format(self.name, location, self.damage))\n",
    "\n",
    "class Soldier(AttackUnit):\n",
    "    def __init__(self):\n",
    "        AttackUnit.__init__(self, \"보병\", 40, 5, 1) \n",
    "\n",
    "    def booster(self):\n",
    "        if self.hp > 10:\n",
    "            self.hp -= 10 \n",
    "            print(\"{0} : 강화제를 사용합니다. (HP 10 감소)\".format(self.name))\n",
    "        else:\n",
    "            print(\"{0} : 체력이 부족해 기술을 사용할 수 없습니다\".format(self.name))\n",
    "\n",
    "# 탱크 유닛\n",
    "class Tank(AttackUnit):\n",
    "    siege_developed = False\n",
    "\n",
    "    def __init__(self):\n",
    "        AttackUnit.__init__(self, \"탱크\", 150, 35, 1) \n",
    "        self.siege_mode = False\n",
    "\n",
    "    # 시지 모드 설정\n",
    "    def set_siege_mode(self):\n",
    "        if Tank.siege_developed == False:\n",
    "            return\n",
    "        if self.siege_mode == False:\n",
    "            print(\"{0} : 시지 모드로 전환합니다.\".format(self.name))\n",
    "            self.damage *= 2 \n",
    "            self.siege_mode = True \n",
    "        else:\n",
    "            print(\"{0} : 시지 모드를 해제합니다.\".format(self.name))\n",
    "            self.damage //= 2 \n",
    "            self.siege_mode = False \n",
    "\n",
    "class Flyable:\n",
    "    def __init__(self, flying_speed):\n",
    "        self.flying_speed = flying_speed\n",
    "\n",
    "    def fly(self, name, location):\n",
    "        print(\"{0} : {1} 방향으로 날아갑니다. [속도 {2}]\" \\\n",
    "            .format(name, location, self.flying_speed))\n",
    "\n",
    "class FlyableAttackUnit(AttackUnit, Flyable):\n",
    "    def __init__(self, name, hp, damage, flying_speed):\n",
    "        AttackUnit.__init__(self, name, hp, damage, 0)\n",
    "        Flyable.__init__(self, flying_speed)\n",
    "\n",
    "    def move(self, location):\n",
    "        self.fly(self.name, location)\n",
    "\n",
    "class Stealth(FlyableAttackUnit):\n",
    "    def __init__(self):\n",
    "        FlyableAttackUnit.__init__(self, \"전투기\", 80, 20, 5)\n",
    "        self.cloaked = False \n",
    "\n",
    "    def cloaking(self):\n",
    "        if self.cloaked == True:\n",
    "            print(\"{0} : 은폐 모드를 해제합니다.\".format(self.name))\n",
    "            self.cloaked = False\n",
    "        else:\n",
    "            print(\"{0} : 은폐 모드를 설정합니다.\".format(self.name))\n",
    "            self.cloaked = True\n",
    "\n",
    "def game_start():\n",
    "    print(\"[알림] 새로운 게임을 시작합니다.\")\n",
    "\n",
    "def game_over():\n",
    "    print(\"Player : Good Game\")\n",
    "    print(\"[Player] 님이 게임에서 퇴장했습니다.\")\n",
    "\n",
    "game_start() \n",
    "\n",
    "so1 = Soldier()\n",
    "so2 = Soldier()\n",
    "so3 = Soldier()\n",
    "\n",
    "ta1 = Tank()\n",
    "ta2 = Tank()\n",
    "\n",
    "st1 = Stealth()\n",
    "\n",
    "attack_units = []\n",
    "attack_units.append(so1)\n",
    "attack_units.append(so2)\n",
    "attack_units.append(so3)\n",
    "attack_units.append(ta1)\n",
    "attack_units.append(ta2)\n",
    "attack_units.append(st1)\n",
    "\n",
    "for unit in attack_units:\n",
    "    unit.move(\"1시\")\n",
    "\n",
    "Tank.siege_developed = True\n",
    "print(\"[알림] 탱크의 시지 모드 개발이 완료됐습니다.\")\n",
    "\n",
    "for unit in attack_units:\n",
    "    if isinstance(unit, Soldier): \n",
    "        unit.booster()\n",
    "    elif isinstance(unit, Tank): \n",
    "        unit.set_siege_mode()\n",
    "    elif isinstance(unit, Stealth): \n",
    "        unit.cloaking()\n",
    "\n",
    "for unit in attack_units:\n",
    "    unit.attack(\"1시\")\n",
    "\n",
    "for unit in attack_units:\n",
    "    unit.damaged(randint(5, 20)) \n",
    "    \n",
    "game_over()"
   ]
  }
 ],
 "metadata": {
  "kernelspec": {
   "display_name": "Python 3 (ipykernel)",
   "language": "python",
   "name": "python3"
  },
  "language_info": {
   "codemirror_mode": {
    "name": "ipython",
    "version": 3
   },
   "file_extension": ".py",
   "mimetype": "text/x-python",
   "name": "python",
   "nbconvert_exporter": "python",
   "pygments_lexer": "ipython3",
   "version": "3.11.5"
  }
 },
 "nbformat": 4,
 "nbformat_minor": 5
}
