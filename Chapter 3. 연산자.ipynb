{
 "cells": [
  {
   "cell_type": "markdown",
   "id": "6889a3a4",
   "metadata": {},
   "source": [
    "## Chapter 3"
   ]
  },
  {
   "cell_type": "markdown",
   "id": "9cb8c55e",
   "metadata": {},
   "source": [
    "#### 3.1 연산자의 종류"
   ]
  },
  {
   "cell_type": "code",
   "execution_count": 1,
   "id": "62e00591",
   "metadata": {},
   "outputs": [
    {
     "name": "stdout",
     "output_type": "stream",
     "text": [
      "2\n",
      "1\n",
      "10\n",
      "2.0\n",
      "8\n",
      "1\n",
      "3\n"
     ]
    }
   ],
   "source": [
    "print(1+1)\n",
    "print(3-2)\n",
    "print(5*2)\n",
    "print(6/3)\n",
    "print(2**3)#거듭제곱\n",
    "print(10%3)#나머지\n",
    "print(10//3)#몫"
   ]
  },
  {
   "cell_type": "code",
   "execution_count": 2,
   "id": "d1c16782",
   "metadata": {},
   "outputs": [
    {
     "name": "stdout",
     "output_type": "stream",
     "text": [
      "True\n",
      "False\n",
      "False\n",
      "True\n"
     ]
    }
   ],
   "source": [
    "print(10>3)\n",
    "print(4>=7)\n",
    "print(10<3)\n",
    "print(5<=5)"
   ]
  },
  {
   "cell_type": "code",
   "execution_count": 3,
   "id": "bc8e73fb",
   "metadata": {},
   "outputs": [
    {
     "name": "stdout",
     "output_type": "stream",
     "text": [
      "True\n",
      "False\n",
      "True\n",
      "True\n"
     ]
    }
   ],
   "source": [
    "print(3==3)\n",
    "print(4==2)\n",
    "print(3+4==7)\n",
    "print(1!=3)"
   ]
  },
  {
   "cell_type": "code",
   "execution_count": 4,
   "id": "6e59fb70",
   "metadata": {},
   "outputs": [
    {
     "name": "stdout",
     "output_type": "stream",
     "text": [
      "False\n",
      "True\n",
      "False\n"
     ]
    }
   ],
   "source": [
    "print((3>0) and (3>5))\n",
    "print((3>0)or (3>5))\n",
    "print(not(1!=3))"
   ]
  },
  {
   "cell_type": "code",
   "execution_count": 5,
   "id": "14267258",
   "metadata": {},
   "outputs": [],
   "source": [
    "# 1분 퀴즈 1번\n",
    "#답: 3번\n",
    "# 1분 퀴즈 2번\n",
    "#답: 4번\n",
    "# 1분 퀴즈 3번\n",
    "#답: 2번\n",
    "# 1분 퀴즈 4번\n",
    "#답: 1번"
   ]
  },
  {
   "cell_type": "markdown",
   "id": "2855dbcb",
   "metadata": {},
   "source": [
    "#### 3.2 연산자의 우선순위"
   ]
  },
  {
   "cell_type": "markdown",
   "id": "f464ab43",
   "metadata": {},
   "source": [
    "1) [], {}, ()  \n",
    "2) **  \n",
    "3) *, /, //, %  \n",
    "4) +, -  \n",
    "5) not, in, <, <=,>=,!=,==  \n",
    "6) and, or  \n",
    "7) =  "
   ]
  },
  {
   "cell_type": "code",
   "execution_count": 6,
   "id": "4db30695",
   "metadata": {},
   "outputs": [],
   "source": [
    "# 1분 퀴즈 5번\n",
    "#답: 2번"
   ]
  },
  {
   "cell_type": "markdown",
   "id": "9f9af366",
   "metadata": {},
   "source": [
    "#### 3.3 변수로 연산하기"
   ]
  },
  {
   "cell_type": "code",
   "execution_count": 7,
   "id": "f8c4f328",
   "metadata": {},
   "outputs": [
    {
     "name": "stdout",
     "output_type": "stream",
     "text": [
      "14\n"
     ]
    }
   ],
   "source": [
    "number=2+3*4\n",
    "print(number)"
   ]
  },
  {
   "cell_type": "code",
   "execution_count": 8,
   "id": "72e34384",
   "metadata": {},
   "outputs": [
    {
     "name": "stdout",
     "output_type": "stream",
     "text": [
      "16\n"
     ]
    }
   ],
   "source": [
    "number=number+2\n",
    "print(number)"
   ]
  },
  {
   "cell_type": "markdown",
   "id": "da2ab0a3",
   "metadata": {},
   "source": [
    "##### 복합 대입 연산자\n",
    "- +=: 오른쪽에 더하기\n",
    "- -=: 오른쪽에 빼기\n",
    "- *=: 오른쪽에 곱하기\n",
    "- /=: 나누기\n",
    "- **= : 거듭제곱\n",
    "- //=: 몫\n",
    "- %= : 나머지"
   ]
  },
  {
   "cell_type": "code",
   "execution_count": 9,
   "id": "b09bf4d1",
   "metadata": {},
   "outputs": [
    {
     "name": "stdout",
     "output_type": "stream",
     "text": [
      "18\n"
     ]
    }
   ],
   "source": [
    "number+=2\n",
    "print(number)"
   ]
  },
  {
   "cell_type": "code",
   "execution_count": 10,
   "id": "a35bb703",
   "metadata": {},
   "outputs": [],
   "source": [
    "# 1분 퀴즈 6번\n",
    "#답: 2번"
   ]
  },
  {
   "cell_type": "markdown",
   "id": "8a0eb741",
   "metadata": {},
   "source": [
    "#### 3.3 변수로 연산하기"
   ]
  },
  {
   "cell_type": "code",
   "execution_count": 11,
   "id": "c429c3d4",
   "metadata": {},
   "outputs": [
    {
     "name": "stdout",
     "output_type": "stream",
     "text": [
      "5\n",
      "16\n",
      "12\n",
      "5\n",
      "3\n",
      "4.68\n"
     ]
    }
   ],
   "source": [
    "# 3.4.1 숫자 처리 함수\n",
    "print(abs(-5))\n",
    "print(pow(4,2)) #제곱\n",
    "print(max(5,12)) #둘중 큰값\n",
    "print(min(5,12)) #둘중 작은값\n",
    "print(round(3.14)) #소수점 이하 첫째 자리에서 반올림한 정수\n",
    "print(round(4.678,2)) # 소수점 이라 셋째 자리에서 반올림한 값\n"
   ]
  },
  {
   "cell_type": "code",
   "execution_count": 12,
   "id": "75cc0336",
   "metadata": {},
   "outputs": [
    {
     "name": "stdout",
     "output_type": "stream",
     "text": [
      "4\n",
      "4\n",
      "4.0\n"
     ]
    }
   ],
   "source": [
    "from math import *\n",
    "result=floor(4.99) #내림\n",
    "print(result)\n",
    "result=ceil(3.14) #올림\n",
    "print(result)\n",
    "result=sqrt(16) #제곱근\n",
    "print(result)"
   ]
  },
  {
   "cell_type": "code",
   "execution_count": 13,
   "id": "8cb2366d",
   "metadata": {},
   "outputs": [
    {
     "name": "stdout",
     "output_type": "stream",
     "text": [
      "0.5061604078332314\n",
      "0.7756449291091306\n",
      "0.802335020156816\n"
     ]
    }
   ],
   "source": [
    "from random import * #혹은 import 뒤에 random,randit를 쓰면 그 기능만 가져다 쓸 수 있다.\n",
    "print(random())\n",
    "print(random())\n",
    "print(random())"
   ]
  },
  {
   "cell_type": "code",
   "execution_count": 14,
   "id": "fb382335",
   "metadata": {},
   "outputs": [
    {
     "name": "stdout",
     "output_type": "stream",
     "text": [
      "7.354783410566458\n",
      "1\n",
      "10\n",
      "20\n"
     ]
    }
   ],
   "source": [
    "print(random()*10) #0.0이상 10.0미만 난수\n",
    "print(int(random()*10)) #0이상 10 미만 정수에서 난수 생성\n",
    "print(int(random()*10)+1) #1이상 11 미만 정수에서 난수 생성\n",
    "print(int(random()*45)+1) #1이상 46 미만 정수에서 난수 생성"
   ]
  },
  {
   "cell_type": "code",
   "execution_count": 15,
   "id": "a478ab73",
   "metadata": {},
   "outputs": [
    {
     "name": "stdout",
     "output_type": "stream",
     "text": [
      "6\n",
      "39\n"
     ]
    }
   ],
   "source": [
    "print(randrange(1,46))  #1이상 46 미만 정수에서 난수 생성\n",
    "print(randint(1,45))  #1이상 45 이하 정수에서 난수 생성"
   ]
  },
  {
   "cell_type": "code",
   "execution_count": 16,
   "id": "85d9c2df",
   "metadata": {},
   "outputs": [],
   "source": [
    "# 1분 퀴즈 7번\n",
    "#답: 4번\n",
    "# 1분 퀴즈 8번\n",
    "#답: 2번"
   ]
  }
 ],
 "metadata": {
  "kernelspec": {
   "display_name": "Python 3 (ipykernel)",
   "language": "python",
   "name": "python3"
  },
  "language_info": {
   "codemirror_mode": {
    "name": "ipython",
    "version": 3
   },
   "file_extension": ".py",
   "mimetype": "text/x-python",
   "name": "python",
   "nbconvert_exporter": "python",
   "pygments_lexer": "ipython3",
   "version": "3.9.13"
  }
 },
 "nbformat": 4,
 "nbformat_minor": 5
}
