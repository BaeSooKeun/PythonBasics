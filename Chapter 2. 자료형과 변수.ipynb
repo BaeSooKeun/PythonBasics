{
 "cells": [
  {
   "cell_type": "markdown",
   "id": "015bcc57",
   "metadata": {},
   "source": [
    "## Chapter 2"
   ]
  },
  {
   "cell_type": "markdown",
   "id": "758de33c",
   "metadata": {},
   "source": [
    "#### 2.1 숫자 자료형\n"
   ]
  },
  {
   "cell_type": "code",
   "execution_count": 1,
   "id": "cf5b102d",
   "metadata": {},
   "outputs": [
    {
     "name": "stdout",
     "output_type": "stream",
     "text": [
      "5\n",
      "-10\n",
      "3.14\n",
      "-1000\n"
     ]
    }
   ],
   "source": [
    "print(5)\n",
    "print(-10)\n",
    "print(3.14)\n",
    "print(-1000)\n",
    "#파이썬은 세미콜론(;)을 붙이지 않음."
   ]
  },
  {
   "cell_type": "code",
   "execution_count": 2,
   "id": "402a2cac",
   "metadata": {},
   "outputs": [
    {
     "name": "stdout",
     "output_type": "stream",
     "text": [
      "8\n",
      "16\n",
      "2.0\n",
      "12\n"
     ]
    }
   ],
   "source": [
    "print(5+3)\n",
    "print(2*8)\n",
    "print(6/3)\n",
    "print(3*(3+1))"
   ]
  },
  {
   "cell_type": "code",
   "execution_count": 3,
   "id": "b746127e",
   "metadata": {},
   "outputs": [],
   "source": [
    "# 1분 퀴즈 1번\n",
    "#답: 2번"
   ]
  },
  {
   "cell_type": "markdown",
   "id": "37b66150",
   "metadata": {},
   "source": [
    "#### 2.2 문자열 자료형\n"
   ]
  },
  {
   "cell_type": "code",
   "execution_count": 4,
   "id": "8b552083",
   "metadata": {},
   "outputs": [
    {
     "name": "stdout",
     "output_type": "stream",
     "text": [
      "풍선\n",
      "나비\n",
      "abdefg\n",
      "10\n",
      "파이썬파이썬파이썬\n"
     ]
    }
   ],
   "source": [
    "# 작은따옴표('') or 큰따옴표(\"\")로 문자열을 감싸야 함.\n",
    "print('풍선')\n",
    "print(\"나비\")\n",
    "print(\"abdefg\")\n",
    "print(\"10\")\n",
    "print(\"파이썬\"*3) #3번 출력"
   ]
  },
  {
   "cell_type": "code",
   "execution_count": 5,
   "id": "b5a55b23",
   "metadata": {},
   "outputs": [
    {
     "ename": "SyntaxError",
     "evalue": "EOL while scanning string literal (3771646848.py, line 2)",
     "output_type": "error",
     "traceback": [
      "\u001b[1;36m  File \u001b[1;32m\"C:\\Users\\qorud\\AppData\\Local\\Temp\\ipykernel_25556\\3771646848.py\"\u001b[1;36m, line \u001b[1;32m2\u001b[0m\n\u001b[1;33m    print('작은따옴표\")\u001b[0m\n\u001b[1;37m                  ^\u001b[0m\n\u001b[1;31mSyntaxError\u001b[0m\u001b[1;31m:\u001b[0m EOL while scanning string literal\n"
     ]
    }
   ],
   "source": [
    "# ',\"두개를 섞어 쓰면 오류가 난다.\n",
    "print('작은따옴표\")\n",
    "print(\"큰따옴표')"
   ]
  },
  {
   "cell_type": "code",
   "execution_count": 6,
   "id": "0b543e19",
   "metadata": {},
   "outputs": [
    {
     "name": "stdout",
     "output_type": "stream",
     "text": [
      "I don't want to go to school\n"
     ]
    }
   ],
   "source": [
    "print(\"I don't want to go to school\") #안에 '가 있을 경우 큰따옴표 사용"
   ]
  },
  {
   "cell_type": "code",
   "execution_count": 7,
   "id": "4c8597e9",
   "metadata": {},
   "outputs": [],
   "source": [
    "# 1분 퀴즈 2번\n",
    "#답: 4번"
   ]
  },
  {
   "cell_type": "markdown",
   "id": "25f0b5d5",
   "metadata": {},
   "source": [
    "#### 2.3 불 자료형\n"
   ]
  },
  {
   "cell_type": "code",
   "execution_count": 8,
   "id": "922d3832",
   "metadata": {},
   "outputs": [
    {
     "name": "stdout",
     "output_type": "stream",
     "text": [
      "False\n",
      "True\n"
     ]
    }
   ],
   "source": [
    "print(5>10)\n",
    "print(5<10)"
   ]
  },
  {
   "cell_type": "code",
   "execution_count": 9,
   "id": "964e963a",
   "metadata": {},
   "outputs": [
    {
     "name": "stdout",
     "output_type": "stream",
     "text": [
      "True\n",
      "False\n"
     ]
    }
   ],
   "source": [
    "print(True)\n",
    "print(False)"
   ]
  },
  {
   "cell_type": "code",
   "execution_count": 10,
   "id": "edecc673",
   "metadata": {},
   "outputs": [
    {
     "name": "stdout",
     "output_type": "stream",
     "text": [
      "False\n",
      "True\n"
     ]
    }
   ],
   "source": [
    "print(not True)\n",
    "print(not False)"
   ]
  },
  {
   "cell_type": "code",
   "execution_count": 11,
   "id": "e9531e30",
   "metadata": {},
   "outputs": [
    {
     "name": "stdout",
     "output_type": "stream",
     "text": [
      "True\n"
     ]
    }
   ],
   "source": [
    "not(5>10)\n",
    "print(not(5>10))"
   ]
  },
  {
   "cell_type": "code",
   "execution_count": 12,
   "id": "e1d6985a",
   "metadata": {},
   "outputs": [],
   "source": [
    "# 1분 퀴즈 3번\n",
    "#답: 4번"
   ]
  },
  {
   "cell_type": "markdown",
   "id": "b41c98e4",
   "metadata": {},
   "source": [
    "#### 2.4 변수\n"
   ]
  },
  {
   "cell_type": "code",
   "execution_count": 13,
   "id": "f048794f",
   "metadata": {},
   "outputs": [
    {
     "name": "stdout",
     "output_type": "stream",
     "text": [
      "반려동물 소개\n",
      "개이고,이름은 연탄이.\n",
      "연탄이는 24살이고, 산책을 아주 좋아해요\n",
      "연탄이는 수컷인가?\n",
      "네\n"
     ]
    }
   ],
   "source": [
    "#2.4.1 변수 정의하기\n",
    "print(\"반려동물 소개\")\n",
    "print(\"개이고,이름은 연탄이.\")\n",
    "print(\"연탄이는 24살이고, 산책을 아주 좋아해요\")\n",
    "print(\"연탄이는 수컷인가?\")\n",
    "print(\"네\")\n",
    "\n",
    "#여기서 연탄이가 아닌 해피로 바꾸려면 일일이 찾아 고쳐야 함. 이럴 때 변수를 사용\n",
    "name=\"연탄이\"\n",
    "animal=\"개\"\n",
    "age=4\n",
    "hobby=\"산책\"\n",
    "is_male=True"
   ]
  },
  {
   "cell_type": "code",
   "execution_count": 14,
   "id": "dd98e66c",
   "metadata": {},
   "outputs": [
    {
     "name": "stdout",
     "output_type": "stream",
     "text": [
      "우리 집 반려동물은 개인데, 이름이 연탄이에요.\n"
     ]
    }
   ],
   "source": [
    "#2.4.2 변수 사용하기\n",
    "name=\"연탄이\"\n",
    "animal=\"개\"\n",
    "age = 4\n",
    "hobby=\"산책\"\n",
    "print(\"우리 집 반려동물은 \"+ animal +\"인데, 이름이 \" + name +\"에요.\")"
   ]
  },
  {
   "cell_type": "code",
   "execution_count": 15,
   "id": "a268d4e5",
   "metadata": {},
   "outputs": [
    {
     "name": "stdout",
     "output_type": "stream",
     "text": [
      "연탄이는 4살이고, 산책을 아주 좋아해요\n"
     ]
    }
   ],
   "source": [
    "print(name+\"는 \"+ str(age)+ \"살이고, \" +hobby + \"을 아주 좋아해요\")"
   ]
  },
  {
   "cell_type": "code",
   "execution_count": 16,
   "id": "7871d803",
   "metadata": {},
   "outputs": [
    {
     "name": "stdout",
     "output_type": "stream",
     "text": [
      "연탄이 는  4 살이고,  산책 을 아주 좋아해요\n"
     ]
    }
   ],
   "source": [
    "print(name,\"는 \",age, \"살이고, \" ,hobby , \"을 아주 좋아해요\")"
   ]
  },
  {
   "cell_type": "code",
   "execution_count": 17,
   "id": "0f3bb9c4",
   "metadata": {},
   "outputs": [
    {
     "name": "stdout",
     "output_type": "stream",
     "text": [
      "3\n"
     ]
    },
    {
     "ename": "TypeError",
     "evalue": "unsupported operand type(s) for +: 'int' and 'str'",
     "output_type": "error",
     "traceback": [
      "\u001b[1;31m---------------------------------------------------------------------------\u001b[0m",
      "\u001b[1;31mTypeError\u001b[0m                                 Traceback (most recent call last)",
      "\u001b[1;32m~\\AppData\\Local\\Temp\\ipykernel_25556\\4221574045.py\u001b[0m in \u001b[0;36m<module>\u001b[1;34m\u001b[0m\n\u001b[0;32m      1\u001b[0m \u001b[1;31m#2.4.3 형 변환하기\u001b[0m\u001b[1;33m\u001b[0m\u001b[1;33m\u001b[0m\u001b[0m\n\u001b[0;32m      2\u001b[0m \u001b[0mprint\u001b[0m\u001b[1;33m(\u001b[0m\u001b[0mint\u001b[0m\u001b[1;33m(\u001b[0m\u001b[1;34m\"3\"\u001b[0m\u001b[1;33m)\u001b[0m\u001b[1;33m)\u001b[0m \u001b[1;31m#문자열 3을 정수 3으로 변환\u001b[0m\u001b[1;33m\u001b[0m\u001b[1;33m\u001b[0m\u001b[0m\n\u001b[1;32m----> 3\u001b[1;33m \u001b[0mprint\u001b[0m\u001b[1;33m(\u001b[0m\u001b[0mint\u001b[0m\u001b[1;33m(\u001b[0m\u001b[1;34m\"3\"\u001b[0m\u001b[1;33m)\u001b[0m\u001b[1;33m+\u001b[0m\u001b[1;34m\"입니다.\"\u001b[0m\u001b[1;33m)\u001b[0m \u001b[1;31m#+ 연산자로 정수형과 문자열을 연결할 수 없음\u001b[0m\u001b[1;33m\u001b[0m\u001b[1;33m\u001b[0m\u001b[0m\n\u001b[0m\u001b[0;32m      4\u001b[0m \u001b[0mprint\u001b[0m\u001b[1;33m(\u001b[0m\u001b[0mint\u001b[0m\u001b[1;33m(\u001b[0m\u001b[1;36m3.5\u001b[0m\u001b[1;33m)\u001b[0m\u001b[1;33m)\u001b[0m \u001b[1;31m#실수를 정수로 변환할 때 소수점 이하를 버림.\u001b[0m\u001b[1;33m\u001b[0m\u001b[1;33m\u001b[0m\u001b[0m\n",
      "\u001b[1;31mTypeError\u001b[0m: unsupported operand type(s) for +: 'int' and 'str'"
     ]
    }
   ],
   "source": [
    "#2.4.3 형 변환하기\n",
    "print(int(\"3\")) #문자열 3을 정수 3으로 변환\n",
    "print(int(\"3\")+\"입니다.\") #+ 연산자로 정수형과 문자열을 연결할 수 없음\n",
    "print(int(3.5)) #실수를 정수로 변환할 때 소수점 이하를 버림."
   ]
  },
  {
   "cell_type": "code",
   "execution_count": 20,
   "id": "a143b73f",
   "metadata": {},
   "outputs": [
    {
     "name": "stdout",
     "output_type": "stream",
     "text": [
      "3.5\n",
      "3.0\n"
     ]
    }
   ],
   "source": [
    "print(float(\"3.5\"))\n",
    "print(float(3)) #소숫점 이하 첫째 자리에 0을 붙여 실수 '3.0'으로 변환"
   ]
  },
  {
   "cell_type": "code",
   "execution_count": 21,
   "id": "cf586610",
   "metadata": {},
   "outputs": [
    {
     "ename": "ValueError",
     "evalue": "could not convert string to float: '오'",
     "output_type": "error",
     "traceback": [
      "\u001b[1;31m---------------------------------------------------------------------------\u001b[0m",
      "\u001b[1;31mValueError\u001b[0m                                Traceback (most recent call last)",
      "\u001b[1;32m~\\AppData\\Local\\Temp\\ipykernel_25556\\1205408439.py\u001b[0m in \u001b[0;36m<module>\u001b[1;34m\u001b[0m\n\u001b[1;32m----> 1\u001b[1;33m \u001b[0mprint\u001b[0m\u001b[1;33m(\u001b[0m\u001b[0mfloat\u001b[0m\u001b[1;33m(\u001b[0m\u001b[1;34m\"오\"\u001b[0m\u001b[1;33m)\u001b[0m\u001b[1;33m)\u001b[0m \u001b[1;31m#float는 모두 숫자로 된 문자열에만 사용 가능\u001b[0m\u001b[1;33m\u001b[0m\u001b[1;33m\u001b[0m\u001b[0m\n\u001b[0m",
      "\u001b[1;31mValueError\u001b[0m: could not convert string to float: '오'"
     ]
    }
   ],
   "source": [
    "print(float(\"오\")) #float는 모두 숫자로 된 문자열에만 사용 가능"
   ]
  },
  {
   "cell_type": "code",
   "execution_count": 22,
   "id": "67d450a9",
   "metadata": {},
   "outputs": [
    {
     "name": "stdout",
     "output_type": "stream",
     "text": [
      "3입니다.\n",
      "3.5입니다.\n"
     ]
    }
   ],
   "source": [
    "print(str(3)+\"입니다.\")\n",
    "print(str(3.5)+\"입니다.\")"
   ]
  },
  {
   "cell_type": "code",
   "execution_count": 18,
   "id": "29932357",
   "metadata": {},
   "outputs": [
    {
     "name": "stdout",
     "output_type": "stream",
     "text": [
      "우리 집 반려동물은 개인데, 이름이 연탄이에요.\n",
      "연탄이는 4살이고, 수영을 아주 좋아해요\n"
     ]
    }
   ],
   "source": [
    "#2.4.4 변수 사용 시 유의사항\n",
    "#1) 변수는 사용하기 전에 정의한다.\n",
    "#2) 변수는 사용하기 전에 마지막으로 저장한 값을 사용한다.\n",
    "name=\"연탄이\"\n",
    "animal=\"개\"\n",
    "age = 4\n",
    "hobby=\"산책\"\n",
    "print(\"우리 집 반려동물은 \"+ animal +\"인데, 이름이 \" + name +\"에요.\")\n",
    "hobby=\"수영\"\n",
    "print(name+\"는 \"+ str(age)+ \"살이고, \" +hobby + \"을 아주 좋아해요\")"
   ]
  },
  {
   "cell_type": "code",
   "execution_count": 19,
   "id": "e458f942",
   "metadata": {},
   "outputs": [],
   "source": [
    "# 1분 퀴즈 4번\n",
    "#답: 3번\n",
    "# 1분 퀴즈 5번\n",
    "#답: 2번"
   ]
  },
  {
   "cell_type": "markdown",
   "id": "54af3202",
   "metadata": {},
   "source": [
    "#### 2.5 주석\n"
   ]
  },
  {
   "cell_type": "code",
   "execution_count": null,
   "id": "f87d1e35",
   "metadata": {},
   "outputs": [],
   "source": [
    "# 1분 퀴즈 6번\n",
    "#답: 3번"
   ]
  }
 ],
 "metadata": {
  "kernelspec": {
   "display_name": "Python 3 (ipykernel)",
   "language": "python",
   "name": "python3"
  },
  "language_info": {
   "codemirror_mode": {
    "name": "ipython",
    "version": 3
   },
   "file_extension": ".py",
   "mimetype": "text/x-python",
   "name": "python",
   "nbconvert_exporter": "python",
   "pygments_lexer": "ipython3",
   "version": "3.9.13"
  }
 },
 "nbformat": 4,
 "nbformat_minor": 5
}
