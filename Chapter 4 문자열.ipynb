{
 "cells": [
  {
   "cell_type": "markdown",
   "id": "648eb96b",
   "metadata": {},
   "source": [
    "## Chapter 4"
   ]
  },
  {
   "cell_type": "markdown",
   "id": "a07f4e67",
   "metadata": {},
   "source": [
    "#### 4.1 문자열\n"
   ]
  },
  {
   "cell_type": "code",
   "execution_count": 1,
   "id": "ad8d6158",
   "metadata": {},
   "outputs": [
    {
     "name": "stdout",
     "output_type": "stream",
     "text": [
      "나는 소년입니다\n"
     ]
    }
   ],
   "source": [
    "sen = '나는 소년입니다'\n",
    "print(sen)"
   ]
  },
  {
   "cell_type": "code",
   "execution_count": 2,
   "id": "72f0f9c9",
   "metadata": {},
   "outputs": [
    {
     "name": "stdout",
     "output_type": "stream",
     "text": [
      "나는 소년입니다\n"
     ]
    }
   ],
   "source": [
    "sen2= \"파이썬은 쉬움\"\n",
    "print(sen)"
   ]
  },
  {
   "cell_type": "code",
   "execution_count": 3,
   "id": "e3ba3d52",
   "metadata": {},
   "outputs": [
    {
     "name": "stdout",
     "output_type": "stream",
     "text": [
      "\n",
      "나는 소년이고,\n",
      "파이썬은 쉬워요\n",
      "\n"
     ]
    }
   ],
   "source": [
    "sen3= \"\"\"\n",
    "나는 소년이고,\n",
    "파이썬은 쉬워요\n",
    "\"\"\"\n",
    "print(sen3)"
   ]
  },
  {
   "cell_type": "markdown",
   "id": "e1f5732a",
   "metadata": {},
   "source": [
    "#### 4.2 슬라이싱\n"
   ]
  },
  {
   "cell_type": "code",
   "execution_count": 4,
   "id": "575a6caa",
   "metadata": {},
   "outputs": [
    {
     "name": "stdout",
     "output_type": "stream",
     "text": [
      "성별:3\n",
      "연:00\n",
      "월:11\n",
      "일:01\n",
      "생년월일:001101\n",
      "뒤 7자리:3999999\n",
      "뒤에서부터 7자리:3999999\n"
     ]
    }
   ],
   "source": [
    "jum = \"001101-3999999\"\n",
    "print(\"성별:\"+jum[7])\n",
    "print(\"연:\"+jum[0:2]) #0~2 직전까지(즉 0,1번째 추출)\n",
    "print(\"월:\"+jum[2:4])\n",
    "print(\"일:\"+jum[4:6])\n",
    "print(\"생년월일:\"+jum[:6]) #처음부터 6직전까지 추출\n",
    "print(\"뒤 7자리:\"+jum[7:]) #7붵 끝까지 추출\n",
    "print(\"뒤에서부터 7자리:\"+jum[-7:]) #맨뒤에서 7번째부터 끝까지"
   ]
  },
  {
   "cell_type": "markdown",
   "id": "6208a3b5",
   "metadata": {},
   "source": [
    "#### 4.3 문자열 처리 함수\n"
   ]
  },
  {
   "cell_type": "code",
   "execution_count": 5,
   "id": "cbea003a",
   "metadata": {},
   "outputs": [
    {
     "name": "stdout",
     "output_type": "stream",
     "text": [
      "python is amazing\n",
      "PYTHON IS AMAZING\n",
      "True\n",
      "17\n"
     ]
    }
   ],
   "source": [
    "python=\"Python is Amazing\"\n",
    "print(python.lower()) #소문자로 바꾸기\n",
    "print(python.upper()) #대문자로 바꾸기\n",
    "print(python[0].isupper()) #소문자로 바꾸기\n",
    "print(len(python))"
   ]
  },
  {
   "cell_type": "code",
   "execution_count": 6,
   "id": "5c905f8c",
   "metadata": {},
   "outputs": [
    {
     "name": "stdout",
     "output_type": "stream",
     "text": [
      "JAVA is Amazing\n"
     ]
    }
   ],
   "source": [
    "print(python.replace(\"Python\",\"JAVA\"))\n"
   ]
  },
  {
   "cell_type": "code",
   "execution_count": 7,
   "id": "d79dabe3",
   "metadata": {},
   "outputs": [
    {
     "name": "stdout",
     "output_type": "stream",
     "text": [
      "5\n",
      "15\n",
      "5\n",
      "2\n"
     ]
    }
   ],
   "source": [
    "index = python.index(\"n\")\n",
    "print(index) #n은 5번째에 위치해 있다.\n",
    "index=python.index(\"n\",index+1) #즉 2번째 n을 찾는 것\n",
    "print(index)\n",
    "\n",
    "print(python.find(\"n\")) \n",
    "#위와의 차이는, n대신에 JAVA를 넣었을 떄 없기에 -1을 출력\n",
    "#하지만 index로 하면, 오류가 남. -> print(python.index(\"JAVA\"))\n",
    "\n",
    "print(python.count(\"n\"))"
   ]
  },
  {
   "cell_type": "markdown",
   "id": "b9985aee",
   "metadata": {},
   "source": [
    "#### 4.4 문자열 포맷\n"
   ]
  },
  {
   "cell_type": "code",
   "execution_count": 8,
   "id": "6d28e373",
   "metadata": {},
   "outputs": [
    {
     "name": "stdout",
     "output_type": "stream",
     "text": [
      "ab\n",
      "a b\n",
      "나는 20살입니다.\n",
      "나는 파이썬을 좋아해요\n",
      "Apple은 A로 시작해요\n",
      "나는 파란색과 빨간색을 좋아해요\n"
     ]
    }
   ],
   "source": [
    "print(\"a\"+\"b\")\n",
    "print(\"a\",\"b\")\n",
    "\n",
    "#방법 1\n",
    "print(\"나는 %d살입니다.\"% 20) #d:정수\n",
    "print(\"나는 %s을 좋아해요\" %\"파이썬\") #s:문자열, string\n",
    "print(\"Apple은 %c로 시작해요\"%\"A\")\n",
    "print(\"나는 %s색과 %s색을 좋아해요\" %(\"파란\",\"빨간\"))"
   ]
  },
  {
   "cell_type": "code",
   "execution_count": 9,
   "id": "220b9f76",
   "metadata": {},
   "outputs": [
    {
     "name": "stdout",
     "output_type": "stream",
     "text": [
      "나는 20살입니다.\n",
      "나는 파란색과 빨간색을 좋아해요 \n",
      "나는 파란색과 빨간색을 좋아해요 \n",
      "나는 빨간색과 파란색을 좋아해요 \n"
     ]
    }
   ],
   "source": [
    "#방법 2\n",
    "print(\"나는 {}살입니다.\".format(20))\n",
    "print(\"나는 {}색과 {}색을 좋아해요 \".format(\"파란\",\"빨간\"))\n",
    "print(\"나는 {0}색과 {1}색을 좋아해요 \".format(\"파란\",\"빨간\"))\n",
    "print(\"나는 {1}색과 {0}색을 좋아해요 \".format(\"파란\",\"빨간\"))"
   ]
  },
  {
   "cell_type": "code",
   "execution_count": 10,
   "id": "69a0574a",
   "metadata": {},
   "outputs": [
    {
     "name": "stdout",
     "output_type": "stream",
     "text": [
      "나는 20살이며,빨간색을 좋아해요\n",
      "나는 20살이며,빨간색을 좋아해요\n"
     ]
    }
   ],
   "source": [
    "#방법 3\n",
    "print(\"나는 {age}살이며,{color}색을 좋아해요\".format(age=20,color=\"빨간\"))\n",
    "print(\"나는 {age}살이며,{color}색을 좋아해요\".format(color=\"빨간\",age=20))"
   ]
  },
  {
   "cell_type": "code",
   "execution_count": 11,
   "id": "609de66b",
   "metadata": {},
   "outputs": [
    {
     "name": "stdout",
     "output_type": "stream",
     "text": [
      "나는 20살이며,빨간색을 좋아해요\n"
     ]
    }
   ],
   "source": [
    "#방법4\n",
    "age=20\n",
    "color=\"빨간\"\n",
    "print(f\"나는 {age}살이며,{color}색을 좋아해요\")"
   ]
  },
  {
   "cell_type": "markdown",
   "id": "66d6b76f",
   "metadata": {},
   "source": [
    "#### 4.5 탈출 문자\n"
   ]
  },
  {
   "cell_type": "code",
   "execution_count": 12,
   "id": "b253bdff",
   "metadata": {},
   "outputs": [
    {
     "name": "stdout",
     "output_type": "stream",
     "text": [
      "백문이 불여일견\n",
      "백견이 불여일타\n",
      "저는 '배수근'입니다.\n",
      "저는 \"배수근\"입니다\n",
      "c:\\\n",
      "red apple\r",
      "Pine\n",
      "Redd\bApple\n",
      "Red\tApple\n"
     ]
    }
   ],
   "source": [
    "print(\"백문이 불여일견\\n백견이 불여일타\") #\\n: 줄바꿈\n",
    "print(\"저는 '배수근'입니다.\") #\"\"안에 \"\"가 있으면 안됨. 혹은 ''안에 ''가 있으면 안됨\n",
    "print(\"저는 \\\"배수근\\\"입니다\") #\\를 이용해서 \"\"안에 \"\"를 넣을 수 있음.\n",
    "\n",
    "print(\"c:\\\\\") # \\\\ : 문장 내에서 하나의 \\로 바뀐다\n",
    "\n",
    "#\\r :커서를 맨 앞으로 이동. 즉 red 를 Pine으로 바꾸는 것\n",
    "print(\"red apple\\rPine\")\n",
    "#\\b : 백스페이스 (한 글자 삭제)\n",
    "print(\"Redd\\bApple\")\n",
    "\n",
    "# \\t :탭\n",
    "print(\"Red\\tApple\")"
   ]
  },
  {
   "cell_type": "code",
   "execution_count": 13,
   "id": "7545ef0f",
   "metadata": {},
   "outputs": [
    {
     "name": "stdout",
     "output_type": "stream",
     "text": [
      "nav51!\n"
     ]
    }
   ],
   "source": [
    "#Quiz3\n",
    "url=\"http://naver.com\"\n",
    "a=url.replace(\"http://\",\"\")\n",
    "b=a[:a.index(\".\")] #OR a[0:5]\n",
    "c=a[:3]+str(len(b))+str(b.count(\"e\"))+\"!\"\n",
    "print(c)"
   ]
  }
 ],
 "metadata": {
  "kernelspec": {
   "display_name": "Python 3 (ipykernel)",
   "language": "python",
   "name": "python3"
  },
  "language_info": {
   "codemirror_mode": {
    "name": "ipython",
    "version": 3
   },
   "file_extension": ".py",
   "mimetype": "text/x-python",
   "name": "python",
   "nbconvert_exporter": "python",
   "pygments_lexer": "ipython3",
   "version": "3.9.13"
  }
 },
 "nbformat": 4,
 "nbformat_minor": 5
}
