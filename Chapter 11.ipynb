{
 "cells": [
  {
   "cell_type": "code",
   "execution_count": 1,
   "id": "27421974",
   "metadata": {},
   "outputs": [
    {
     "name": "stdout",
     "output_type": "stream",
     "text": [
      "3명, 영화표 가격은 30000원입니다.\n",
      "4명, 조조 할인 영화표 가격은 24000원입니다.\n",
      "5명, 군인 할인 영화표 가격은 20000원입니다. \n",
      "3명, 영화표 가격은 30000원입니다.\n",
      "4명, 조조 할인 영화표 가격은 24000원입니다.\n",
      "5명, 군인 할인 영화표 가격은 20000원입니다. \n",
      "3명, 영화표 가격은 30000원입니다.\n",
      "4명, 조조 할인 영화표 가격은 24000원입니다.\n",
      "5명, 군인 할인 영화표 가격은 20000원입니다. \n",
      "5명, 영화표 가격은 50000원입니다.\n",
      "6명, 조조 할인 영화표 가격은 36000원입니다.\n",
      "7명, 군인 할인 영화표 가격은 28000원입니다. \n",
      "5명, 군인 할인 영화표 가격은 20000원입니다. \n"
     ]
    }
   ],
   "source": [
    "import theater_module\n",
    "\n",
    "theater_module.price(3) \n",
    "theater_module.price_morning(4) \n",
    "theater_module.price_soldier(5) \n",
    "\n",
    "\n",
    "import theater_module as mv \n",
    "mv.price(3)\n",
    "mv.price_morning(4)\n",
    "mv.price_soldier(5)\n",
    "\n",
    "\n",
    "from theater_module import * \n",
    "\n",
    "price(3) \n",
    "price_morning(4)\n",
    "price_soldier(5)\n",
    "\n",
    "\n",
    "from theater_module import price, price_morning \n",
    "\n",
    "price(5) \n",
    "price_morning(6) \n",
    "price_soldier(7) \n",
    "\n",
    "from theater_module import price_soldier as price\n",
    "\n",
    "price(5) "
   ]
  },
  {
   "cell_type": "code",
   "execution_count": 2,
   "id": "05285ac5",
   "metadata": {},
   "outputs": [
    {
     "name": "stdout",
     "output_type": "stream",
     "text": [
      "외부에서 thailand 모듈 호출\n",
      "[태국 3박 5일 패키지] 방콕, 파타야 여행(야시장 투어) 50만 원\n",
      "[태국 3박 5일 패키지] 방콕, 파타야 여행(야시장 투어) 50만 원\n"
     ]
    }
   ],
   "source": [
    "import travel.thailand \n",
    "\n",
    "trip_to = travel.thailand.ThailandPackage()\n",
    "trip_to.detail()\n",
    "\n",
    "from travel.thailand import ThailandPackage \n",
    "\n",
    "trip_to = ThailandPackage() \n",
    "trip_to.detail()"
   ]
  },
  {
   "cell_type": "code",
   "execution_count": 3,
   "id": "abeb95d4",
   "metadata": {},
   "outputs": [
    {
     "name": "stdout",
     "output_type": "stream",
     "text": [
      "[베트남 3박 5일 패키지] 다낭 효도 여행 60만 원\n"
     ]
    }
   ],
   "source": [
    "import travel\n",
    "from travel import *\n",
    "\n",
    "trip_to = vietnam.VietnamPackage() \n",
    "trip_to.detail()"
   ]
  },
  {
   "cell_type": "code",
   "execution_count": 4,
   "id": "8f71b372",
   "metadata": {},
   "outputs": [
    {
     "name": "stdout",
     "output_type": "stream",
     "text": [
      "[태국 3박 5일 패키지] 방콕, 파타야 여행(야시장 투어) 50만 원\n"
     ]
    }
   ],
   "source": [
    "from travel import *\n",
    "\n",
    "trip_to = thailand.ThailandPackage()\n",
    "trip_to.detail()"
   ]
  },
  {
   "cell_type": "code",
   "execution_count": 5,
   "id": "60db9aba",
   "metadata": {},
   "outputs": [
    {
     "name": "stdout",
     "output_type": "stream",
     "text": [
      "C:\\Users\\qorud\\anaconda3\\Lib\\random.py\n",
      "C:\\Users\\qorud\\OneDrive\\바탕 화면\\SODA\\python_basics\\travel\\thailand.py\n"
     ]
    }
   ],
   "source": [
    "import inspect\n",
    "import random\n",
    "\n",
    "print(inspect.getfile(random))\n",
    "\n",
    "import inspect\n",
    "from travel import *\n",
    "\n",
    "print(inspect.getfile(thailand)) "
   ]
  },
  {
   "cell_type": "code",
   "execution_count": 6,
   "id": "b432f675",
   "metadata": {},
   "outputs": [
    {
     "name": "stdout",
     "output_type": "stream",
     "text": [
      "<html>\n",
      " <body>\n",
      "  <p>\n",
      "   Some\n",
      "   <b>\n",
      "    bad\n",
      "    <i>\n",
      "     HTML\n",
      "    </i>\n",
      "   </b>\n",
      "  </p>\n",
      " </body>\n",
      "</html>\n",
      "\n"
     ]
    }
   ],
   "source": [
    "from bs4 import BeautifulSoup\n",
    "\n",
    "soup = BeautifulSoup(\"<p>Some<b>bad<i>HTML\")\n",
    "print(soup.prettify())"
   ]
  },
  {
   "cell_type": "code",
   "execution_count": 8,
   "id": "9c9baa1c",
   "metadata": {},
   "outputs": [
    {
     "name": "stdout",
     "output_type": "stream",
     "text": [
      "어떤 언어를 좋아하세요? 파이썬\n",
      "파이썬은 아주 좋은 언어입니다!\n",
      "['BeautifulSoup', 'In', 'Out', 'ThailandPackage', '_', '__', '___', '__builtin__', '__builtins__', '__doc__', '__loader__', '__name__', '__package__', '__spec__', '_dh', '_i', '_i1', '_i2', '_i3', '_i4', '_i5', '_i6', '_i7', '_i8', '_ih', '_ii', '_iii', '_oh', 'exit', 'get_ipython', 'inspect', 'language', 'lst', 'mv', 'name', 'open', 'pickle', 'price', 'price_morning', 'price_soldier', 'quit', 'random', 'soup', 'thailand', 'theater_module', 'travel', 'trip_to', 'vietnam']\n",
      "['BeautifulSoup', 'In', 'Out', 'ThailandPackage', '_', '__', '___', '__builtin__', '__builtins__', '__doc__', '__loader__', '__name__', '__package__', '__spec__', '_dh', '_i', '_i1', '_i2', '_i3', '_i4', '_i5', '_i6', '_i7', '_i8', '_ih', '_ii', '_iii', '_oh', 'exit', 'get_ipython', 'inspect', 'language', 'lst', 'mv', 'name', 'open', 'pickle', 'price', 'price_morning', 'price_soldier', 'quit', 'random', 'soup', 'thailand', 'theater_module', 'travel', 'trip_to', 'vietnam']\n",
      "['BeautifulSoup', 'In', 'Out', 'ThailandPackage', '_', '__', '___', '__builtin__', '__builtins__', '__doc__', '__loader__', '__name__', '__package__', '__spec__', '_dh', '_i', '_i1', '_i2', '_i3', '_i4', '_i5', '_i6', '_i7', '_i8', '_ih', '_ii', '_iii', '_oh', 'exit', 'get_ipython', 'inspect', 'language', 'lst', 'mv', 'name', 'open', 'pickle', 'price', 'price_morning', 'price_soldier', 'quit', 'random', 'soup', 'thailand', 'theater_module', 'travel', 'trip_to', 'vietnam']\n",
      "['BPF', 'LOG4', 'NV_MAGICCONST', 'RECIP_BPF', 'Random', 'SG_MAGICCONST', 'SystemRandom', 'TWOPI', '_ONE', '_Sequence', '_Set', '__all__', '__builtins__', '__cached__', '__doc__', '__file__', '__loader__', '__name__', '__package__', '__spec__', '_accumulate', '_acos', '_bisect', '_ceil', '_cos', '_e', '_exp', '_floor', '_index', '_inst', '_isfinite', '_log', '_os', '_pi', '_random', '_repeat', '_sha512', '_sin', '_sqrt', '_test', '_test_generator', '_urandom', '_warn', 'betavariate', 'choice', 'choices', 'expovariate', 'gammavariate', 'gauss', 'getrandbits', 'getstate', 'lognormvariate', 'normalvariate', 'paretovariate', 'randbytes', 'randint', 'random', 'randrange', 'sample', 'seed', 'setstate', 'shuffle', 'triangular', 'uniform', 'vonmisesvariate', 'weibullvariate']\n",
      "['__add__', '__class__', '__class_getitem__', '__contains__', '__delattr__', '__delitem__', '__dir__', '__doc__', '__eq__', '__format__', '__ge__', '__getattribute__', '__getitem__', '__getstate__', '__gt__', '__hash__', '__iadd__', '__imul__', '__init__', '__init_subclass__', '__iter__', '__le__', '__len__', '__lt__', '__mul__', '__ne__', '__new__', '__reduce__', '__reduce_ex__', '__repr__', '__reversed__', '__rmul__', '__setattr__', '__setitem__', '__sizeof__', '__str__', '__subclasshook__', 'append', 'clear', 'copy', 'count', 'extend', 'index', 'insert', 'pop', 'remove', 'reverse', 'sort']\n",
      "['__add__', '__class__', '__contains__', '__delattr__', '__dir__', '__doc__', '__eq__', '__format__', '__ge__', '__getattribute__', '__getitem__', '__getnewargs__', '__getstate__', '__gt__', '__hash__', '__init__', '__init_subclass__', '__iter__', '__le__', '__len__', '__lt__', '__mod__', '__mul__', '__ne__', '__new__', '__reduce__', '__reduce_ex__', '__repr__', '__rmod__', '__rmul__', '__setattr__', '__sizeof__', '__str__', '__subclasshook__', 'capitalize', 'casefold', 'center', 'count', 'encode', 'endswith', 'expandtabs', 'find', 'format', 'format_map', 'index', 'isalnum', 'isalpha', 'isascii', 'isdecimal', 'isdigit', 'isidentifier', 'islower', 'isnumeric', 'isprintable', 'isspace', 'istitle', 'isupper', 'join', 'ljust', 'lower', 'lstrip', 'maketrans', 'partition', 'removeprefix', 'removesuffix', 'replace', 'rfind', 'rindex', 'rjust', 'rpartition', 'rsplit', 'rstrip', 'split', 'splitlines', 'startswith', 'strip', 'swapcase', 'title', 'translate', 'upper', 'zfill']\n"
     ]
    }
   ],
   "source": [
    "language = input(\"어떤 언어를 좋아하세요? \")\n",
    "print(\"{0}은 아주 좋은 언어입니다!\".format(language))\n",
    "\n",
    "\n",
    "print(dir())\n",
    "import random \n",
    "print(dir())\n",
    "import pickle \n",
    "print(dir())\n",
    "\n",
    "\n",
    "import random\n",
    "print(dir(random))\n",
    "\n",
    "\n",
    "lst = [1, 2, 3]\n",
    "print(dir(lst))\n",
    "\n",
    "\n",
    "name = \"Jim\"\n",
    "print(dir(name))"
   ]
  },
  {
   "cell_type": "code",
   "execution_count": 9,
   "id": "c9e5d3e2",
   "metadata": {},
   "outputs": [
    {
     "name": "stdout",
     "output_type": "stream",
     "text": [
      "['theater_module.py']\n"
     ]
    }
   ],
   "source": [
    "import glob\n",
    "\n",
    "print(glob.glob(\"*.py\"))\n"
   ]
  },
  {
   "cell_type": "code",
   "execution_count": 10,
   "id": "2bdd00c3",
   "metadata": {},
   "outputs": [
    {
     "name": "stdout",
     "output_type": "stream",
     "text": [
      "C:\\Users\\qorud\\OneDrive\\바탕 화면\\SODA\\python_basics\n",
      "sample_dir 폴더를 생성했습니다.\n",
      "['.ipynb_checkpoints', 'Chapter 10.ipynb', 'Chapter 11.ipynb', 'Chapter 2. 자료형과 변수.ipynb', 'Chapter 3. 연산자.ipynb', 'Chapter 4 문자열.ipynb', 'Chapter 5 리스트.ipynb', 'Chapter 6.ipynb', 'Chapter 7.ipynb', 'Chapter 8 입출력.ipynb', 'Chapter 9 클래스.ipynb', 'profile.pickle', 'sample_dir', 'theater_module.py', 'travel', '__pycache__']\n"
     ]
    }
   ],
   "source": [
    "import os\n",
    "\n",
    "print(os.getcwd()) \n",
    "\n",
    "\n",
    "folder = \"sample_dir\"\n",
    "if os.path.exists(folder): \n",
    "    print(\"이미 존재하는 폴더입니다.\")\n",
    "    os.rmdir(folder) \n",
    "    print(folder, \"폴더를 삭제했습니다.\") \n",
    "else: \n",
    "    os.makedirs(folder) \n",
    "    print(folder, \"폴더를 생성했습니다.\")\n",
    "\n",
    "\n",
    "print(os.listdir()) "
   ]
  },
  {
   "cell_type": "code",
   "execution_count": 11,
   "id": "d8266d2e",
   "metadata": {},
   "outputs": [
    {
     "name": "stdout",
     "output_type": "stream",
     "text": [
      "time.struct_time(tm_year=2023, tm_mon=11, tm_mday=14, tm_hour=17, tm_min=0, tm_sec=51, tm_wday=1, tm_yday=318, tm_isdst=0)\n",
      "2023-11-14 17:00:51\n",
      "오늘 날짜는 2023-11-14\n",
      "우리가 만난 지 100일은 2024-02-22\n"
     ]
    }
   ],
   "source": [
    "import time\n",
    "\n",
    "print(time.localtime())\n",
    "print(time.strftime(\"%Y-%m-%d %H:%M:%S\")) \n",
    "\n",
    "\n",
    "import datetime\n",
    "\n",
    "print(\"오늘 날짜는\", datetime.date.today())\n",
    "today = datetime.date.today() \n",
    "td = datetime.timedelta(days=100) \n",
    "print(\"우리가 만난 지 100일은\", today + td) "
   ]
  }
 ],
 "metadata": {
  "kernelspec": {
   "display_name": "Python 3 (ipykernel)",
   "language": "python",
   "name": "python3"
  },
  "language_info": {
   "codemirror_mode": {
    "name": "ipython",
    "version": 3
   },
   "file_extension": ".py",
   "mimetype": "text/x-python",
   "name": "python",
   "nbconvert_exporter": "python",
   "pygments_lexer": "ipython3",
   "version": "3.11.5"
  }
 },
 "nbformat": 4,
 "nbformat_minor": 5
}
